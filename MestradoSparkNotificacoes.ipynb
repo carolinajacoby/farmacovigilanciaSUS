{
  "cells": [
    {
      "cell_type": "markdown",
      "metadata": {
        "id": "view-in-github",
        "colab_type": "text"
      },
      "source": [
        "<a href=\"https://colab.research.google.com/github/carolinajacoby/farmacovigilanciaSUS/blob/main/MestradoSparkNotificacoes.ipynb\" target=\"_parent\"><img src=\"https://colab.research.google.com/assets/colab-badge.svg\" alt=\"Open In Colab\"/></a>"
      ]
    },
    {
      "cell_type": "markdown",
      "metadata": {
        "id": "9g8LtG6xO5XH"
      },
      "source": [
        "# 1- Configuração do ambiente de programação\n",
        "\n"
      ]
    },
    {
      "cell_type": "code",
      "execution_count": null,
      "metadata": {
        "id": "zd_HoqSCRSPk"
      },
      "outputs": [],
      "source": [
        "import os"
      ]
    },
    {
      "cell_type": "code",
      "execution_count": null,
      "metadata": {
        "colab": {
          "base_uri": "https://localhost:8080/"
        },
        "id": "FMoV7jOyPavz",
        "outputId": "fe6be92a-5eac-4aae-b6d0-00fa2ba4eb94"
      },
      "outputs": [
        {
          "output_type": "stream",
          "name": "stdout",
          "text": [
            "openjdk 11.0.25 2024-10-15\n",
            "OpenJDK Runtime Environment (build 11.0.25+9-post-Ubuntu-1ubuntu122.04)\n",
            "OpenJDK 64-Bit Server VM (build 11.0.25+9-post-Ubuntu-1ubuntu122.04, mixed mode, sharing)\n"
          ]
        }
      ],
      "source": [
        "# Instalar e testar versão do Java\n",
        "!apt-get install openjdk-8-jdk-headless -qq > /dev/null\n",
        "! java --version"
      ]
    },
    {
      "cell_type": "code",
      "execution_count": null,
      "metadata": {
        "colab": {
          "base_uri": "https://localhost:8080/"
        },
        "id": "pn35ForTQLI_",
        "outputId": "b819a743-993f-4d16-a23f-32c99cb79c0a"
      },
      "outputs": [
        {
          "output_type": "stream",
          "name": "stdout",
          "text": [
            "--2025-01-08 21:48:48--  https://dlcdn.apache.org/spark/spark-3.4.4/spark-3.4.4-bin-hadoop3.tgz\n",
            "Resolving dlcdn.apache.org (dlcdn.apache.org)... 151.101.2.132, 2a04:4e42::644\n",
            "Connecting to dlcdn.apache.org (dlcdn.apache.org)|151.101.2.132|:443... connected.\n",
            "HTTP request sent, awaiting response... 200 OK\n",
            "Length: 388988563 (371M) [application/x-gzip]\n",
            "Saving to: ‘spark-3.4.4-bin-hadoop3.tgz’\n",
            "\n",
            "spark-3.4.4-bin-had 100%[===================>] 370.97M   166MB/s    in 2.2s    \n",
            "\n",
            "2025-01-08 21:48:55 (166 MB/s) - ‘spark-3.4.4-bin-hadoop3.tgz’ saved [388988563/388988563]\n",
            "\n"
          ]
        }
      ],
      "source": [
        "# Baixar o Apache Spark\n",
        "! wget https://dlcdn.apache.org/spark/spark-3.4.4/spark-3.4.4-bin-hadoop3.tgz\n",
        "# Descompactar\n",
        "! tar xf spark-3.4.4-bin-hadoop3.tgz\n",
        "# Configurar o Apache Spark\n",
        "! pip install -q findspark\n"
      ]
    },
    {
      "cell_type": "code",
      "execution_count": null,
      "metadata": {
        "id": "XHNcvBxoREgC"
      },
      "outputs": [],
      "source": [
        "#Apagar o arquivo compactado\n",
        "! rm -rf spark-3.4.4-bin-hadoop3.tgz"
      ]
    },
    {
      "cell_type": "code",
      "execution_count": null,
      "metadata": {
        "id": "xWDliN1xROVb"
      },
      "outputs": [],
      "source": [
        "#Configuração as variáveis de ambiente\n",
        "os.environ['JAVA_HOME'] = '/usr/lib/jvm/java-8-openjdk-amd64'\n",
        "os.environ['SPARK_HOME'] = '/content/spark-3.4.4-bin-hadoop3'\n"
      ]
    },
    {
      "cell_type": "code",
      "execution_count": null,
      "metadata": {
        "id": "OGYA3GpMSXkY"
      },
      "outputs": [],
      "source": [
        "! pip install -q findspark # pacote para procurar o spark na máquina e informar ao os onde encontra-lo"
      ]
    },
    {
      "cell_type": "code",
      "execution_count": null,
      "metadata": {
        "id": "03Heam7TRm_U"
      },
      "outputs": [],
      "source": [
        "# Inicializar o Spark e criar uma sessão\n",
        "import findspark\n",
        "findspark.init()\n",
        "from pyspark.sql import SparkSession\n",
        "spark = SparkSession.builder.master('local[*]').appName ('MestradoSpark'). getOrCreate()"
      ]
    },
    {
      "cell_type": "markdown",
      "metadata": {
        "id": "9uQn6Hi6UyXJ"
      },
      "source": [
        "# 2- Leitura do CSV vigimed_notificacoes"
      ]
    },
    {
      "cell_type": "code",
      "execution_count": null,
      "metadata": {
        "id": "oLpvAByNWHEM"
      },
      "outputs": [],
      "source": [
        "df_notificacoes = spark.read.csv(\n",
        "    '/content/drive/MyDrive/mestrado_carol/dissertacao/codigo/vigimed/vigimed_notificacoes.csv',\n",
        "    sep=';',\n",
        "    header=True,\n",
        "    inferSchema=True,\n",
        "    encoding='ISO-8859-1'\n",
        ")\n"
      ]
    },
    {
      "cell_type": "code",
      "execution_count": null,
      "metadata": {
        "colab": {
          "base_uri": "https://localhost:8080/"
        },
        "id": "Eeyc-Tl8Yf3K",
        "outputId": "94f2fc8b-8ec3-46e7-afaa-33b756204bb4"
      },
      "outputs": [
        {
          "output_type": "stream",
          "name": "stdout",
          "text": [
            "+-------+------+--------------------+--------------------+-------------------------+---------------------+-----------------------+-------------------+--------------------+------------------------+--------------------+--------------------+-----------+--------------------------------+------------+--------+--------+-----------------+------------------+----------------------------+--------------------+--------------------+--------------------+--------------------+-------------------+------------------+--------------------------+------------------------+--------------------+-----------+\n",
            "|summary|    UF|TIPO_ENTRADA_VIGIMED|         RECEBIDO_DE|IDENTIFICACAO_NOTIFICACAO|DATA_INCLUSAO_SISTEMA|DATA_ULTIMA_ATUALIZACAO|   DATA_NOTIFICACAO|    TIPO_NOTIFICACAO|NOTIFICACAO_PARENT_CHILD|     DATA_NASCIMENTO|IDADE_MOMENTO_REACAO|GRUPO_IDADE|IDADE_GESTACIONAL_MOMENTO_REACAO|        SEXO|GESTANTE|LACTANTE|          PESO_KG|         ALTURA_CM|REACAO_EVENTO_ADVERSO_MEDDRA|               GRAVE|           GRAVIDADE|            DESFECHO|    DATA_INICIO_HORA|    DATA_FINAL_HORA|           DURACAO|RELACAO_MEDICAMENTO_EVENTO|NOME_MEDICAMENTO_WHODRUG|        ACAO_ADOTADA|NOTIFICADOR|\n",
            "+-------+------+--------------------+--------------------+-------------------------+---------------------+-----------------------+-------------------+--------------------+------------------------+--------------------+--------------------+-----------+--------------------------------+------------+--------+--------+-----------------+------------------+----------------------------+--------------------+--------------------+--------------------+--------------------+-------------------+------------------+--------------------------+------------------------+--------------------+-----------+\n",
            "|  count|164199|              243282|              216650|                   243352|               243352|                 243323|             170260|              243352|                     944|              200532|              177868|     143386|                           82076|      237614|   82494|   82491|           148639|             51083|                      243155|              210369|              165927|              218319|              241844|             240283|            239568|                    243351|                  242977|              160518|     233046|\n",
            "|   mean|  null|                null|                null|                     null| 2.0220895717775077E7|    2.022093890926989E7|2.017646321721036E7|                null|                    null|1.9613460454583734E7|   49.97014925373134|       null|                            null|        null|    null|    null|129.0529108637848|160.53446352015348|                        null|                null|                null|                null|1.8704973178643104E7|1.919410450298575E7|16.214285714285715|                      null|                    null|                null|       null|\n",
            "| stddev|  null|                null|                null|                     null|   13384.664704565981|      13414.61381451269|  895641.5487919927|                null|                    null|  1620845.1580707568|  19.519198124716375|       null|                            null|        null|    null|    null|2901.546757246961|24.003061906210135|                        null|                null|                null|                null|   5305470.749670247|  4426050.623765715| 27.61877447130309|                      null|                    null|                null|       null|\n",
            "|    min|     C|Empresas Farmacêu...|Autoridade Regula...|      BR-ANVISA-300000004|             20181201|               20181201|           00200306|Notificação de es...|                     Sim|            00021123|               0 ano|Adolescente|                          0 Dias|Desconhecido|    Não |    Não |                0|                 0|        AFP aumentada_x00...|                 Não|       Ameaça à vida|        Desconhecido|                    |                   |                  |      Concomitante_x000...|                   18FDG|     Aumento da dose|   Advogado|\n",
            "|    max|    TO|     VigiFlow eForms|Profissional de S...|      BR-ANVISA-300292819|             20240922|                   None|               None|               Outro|                     Sim|                None|                 mês|       None|                            None|        None|     Sim|     Sim|             None|               990|        Úvula aumentada|S...||||||||||||||||||...||||||||||||||||||...||||||||||||||||||...|      20290611 23:00|          20420809 |      9999 mês| | |                ||Suspeito|    ||||||||||Acido a...||||||||||||||||||...|         |||\n",
            "+-------+------+--------------------+--------------------+-------------------------+---------------------+-----------------------+-------------------+--------------------+------------------------+--------------------+--------------------+-----------+--------------------------------+------------+--------+--------+-----------------+------------------+----------------------------+--------------------+--------------------+--------------------+--------------------+-------------------+------------------+--------------------------+------------------------+--------------------+-----------+\n",
            "\n"
          ]
        }
      ],
      "source": [
        "df_notificacoes.describe().show(20)"
      ]
    },
    {
      "cell_type": "markdown",
      "metadata": {
        "id": "HJy3ozd5f6L0"
      },
      "source": [
        "- # DIMENSÕES DA TABELA NOTIFICAÇÕES"
      ]
    },
    {
      "cell_type": "code",
      "execution_count": null,
      "metadata": {
        "colab": {
          "base_uri": "https://localhost:8080/"
        },
        "id": "2Q3451JmfMOl",
        "collapsed": true,
        "outputId": "1aef7bce-0e2d-4852-e23b-c954113750fe"
      },
      "outputs": [
        {
          "output_type": "stream",
          "name": "stdout",
          "text": [
            "A tabela tem 243352 linhas e 29 colunas.\n",
            "root\n",
            " |-- UF: string (nullable = true)\n",
            " |-- TIPO_ENTRADA_VIGIMED: string (nullable = true)\n",
            " |-- RECEBIDO_DE: string (nullable = true)\n",
            " |-- IDENTIFICACAO_NOTIFICACAO: string (nullable = true)\n",
            " |-- DATA_INCLUSAO_SISTEMA: integer (nullable = true)\n",
            " |-- DATA_ULTIMA_ATUALIZACAO: string (nullable = true)\n",
            " |-- DATA_NOTIFICACAO: string (nullable = true)\n",
            " |-- TIPO_NOTIFICACAO: string (nullable = true)\n",
            " |-- NOTIFICACAO_PARENT_CHILD: string (nullable = true)\n",
            " |-- DATA_NASCIMENTO: string (nullable = true)\n",
            " |-- IDADE_MOMENTO_REACAO: string (nullable = true)\n",
            " |-- GRUPO_IDADE: string (nullable = true)\n",
            " |-- IDADE_GESTACIONAL_MOMENTO_REACAO: string (nullable = true)\n",
            " |-- SEXO: string (nullable = true)\n",
            " |-- GESTANTE: string (nullable = true)\n",
            " |-- LACTANTE: string (nullable = true)\n",
            " |-- PESO_KG: string (nullable = true)\n",
            " |-- ALTURA_CM: integer (nullable = true)\n",
            " |-- REACAO_EVENTO_ADVERSO_MEDDRA: string (nullable = true)\n",
            " |-- GRAVE: string (nullable = true)\n",
            " |-- GRAVIDADE: string (nullable = true)\n",
            " |-- DESFECHO: string (nullable = true)\n",
            " |-- DATA_INICIO_HORA: string (nullable = true)\n",
            " |-- DATA_FINAL_HORA: string (nullable = true)\n",
            " |-- DURACAO: string (nullable = true)\n",
            " |-- RELACAO_MEDICAMENTO_EVENTO: string (nullable = true)\n",
            " |-- NOME_MEDICAMENTO_WHODRUG: string (nullable = true)\n",
            " |-- ACAO_ADOTADA: string (nullable = true)\n",
            " |-- NOTIFICADOR: string (nullable = true)\n",
            "\n",
            "+---+--------------------+--------------------+-------------------------+---------------------+-----------------------+----------------+--------------------+------------------------+---------------+--------------------+-----------+--------------------------------+---------+--------+--------+-------+---------+----------------------------+--------------------+--------------------+--------------------+--------------------+--------------------+--------------------+--------------------------+------------------------+--------------------+--------------------+\n",
            "| UF|TIPO_ENTRADA_VIGIMED|         RECEBIDO_DE|IDENTIFICACAO_NOTIFICACAO|DATA_INCLUSAO_SISTEMA|DATA_ULTIMA_ATUALIZACAO|DATA_NOTIFICACAO|    TIPO_NOTIFICACAO|NOTIFICACAO_PARENT_CHILD|DATA_NASCIMENTO|IDADE_MOMENTO_REACAO|GRUPO_IDADE|IDADE_GESTACIONAL_MOMENTO_REACAO|     SEXO|GESTANTE|LACTANTE|PESO_KG|ALTURA_CM|REACAO_EVENTO_ADVERSO_MEDDRA|               GRAVE|           GRAVIDADE|            DESFECHO|    DATA_INICIO_HORA|     DATA_FINAL_HORA|             DURACAO|RELACAO_MEDICAMENTO_EVENTO|NOME_MEDICAMENTO_WHODRUG|        ACAO_ADOTADA|         NOTIFICADOR|\n",
            "+---+--------------------+--------------------+-------------------------+---------------------+-----------------------+----------------+--------------------+------------------------+---------------+--------------------+-----------+--------------------------------+---------+--------+--------+-------+---------+----------------------------+--------------------+--------------------+--------------------+--------------------+--------------------+--------------------+--------------------------+------------------------+--------------------+--------------------+\n",
            "| SP|Empresas Farmacêu...|Empresa Farmacêutica|      BR-ANVISA-300212656|             20230928|               20230928|            None|Notificação espon...|                    null|       19900131|              30 ano|       None|                            None| Feminino|    Não |    Não |   68.0|      165|                 Hemiparesia|                 Sim|Outro efeito clin...|Recuperado/Resolv...|           20210125 |           20210206 |              12 dia|      Concomitante_x000...|    Tamisa_x000D_|Aer...|_x000D_|_x000D_|_...|              Médico|\n",
            "| SP|Empresas Farmacêu...|Empresa Farmacêutica|      BR-ANVISA-300208322|             20230901|               20230901|            None|Notificação espon...|                    null|           None|                None|       None|                            None| Feminino|    Não |    Não |   None|     null|        Cefaleia_x000D_|G...|Não_x000D_|Não_x0...|_x000D_|_x000D_|O...|Desconhecido_x000...|20210122 _x000D_|...| _x000D_| _x000D_...| _x000D_| _x000D_...|                  Suspeito|               CoronaVac|       Não aplicável|Consumidor ou out...|\n",
            "| SP|Empresas Farmacêu...|Empresa Farmacêutica|      BR-ANVISA-300214015|             20231006|               20231006|            None|Notificação espon...|                    null|       19710522|              49 ano|       None|                            None|Masculino|    Não |    Não |   None|     null|        Nefrolitíase_x000...|      Sim_x000D_|Sim|Hospitalização/Pr...|Desconhecido_x000...|20210203 _x000D_|...|           _x000D_| |           _x000D_| |      Concomitante_x000...|    Metformina_x000D_...|            _x000D_||Médico_x000D_|Out...|\n",
            "| SP|Empresas Farmacêu...|Empresa Farmacêutica|      BR-ANVISA-300212385|             20230927|               20230927|            None|Notificação espon...|                    null|           None|                None|       None|                            None|Masculino|    Não |    Não |   None|     null|        Abscesso nasal_x0...|      Sim_x000D_|Não|Outro efeito clin...|Desconhecido_x000...|           _x000D_| |           _x000D_| |           _x000D_| |                  Suspeito|    Vacina adsorvida ...|                null|Consumidor ou out...|\n",
            "| SP|Empresas Farmacêu...|Empresa Farmacêutica|      BR-ANVISA-300212764|             20230929|               20230929|            None|Notificação espon...|                    null|       19820505|              39 ano|       None|                            None|Masculino|    Não |    Não |   None|     null|        Descompensação me...|      Sim_x000D_|Sim|Outro efeito clin...|Desconhecido_x000...|           _x000D_| |           _x000D_| |           _x000D_| |                  Suspeito|               CoronaVac|        Desconhecido|Consumidor ou out...|\n",
            "+---+--------------------+--------------------+-------------------------+---------------------+-----------------------+----------------+--------------------+------------------------+---------------+--------------------+-----------+--------------------------------+---------+--------+--------+-------+---------+----------------------------+--------------------+--------------------+--------------------+--------------------+--------------------+--------------------+--------------------------+------------------------+--------------------+--------------------+\n",
            "only showing top 5 rows\n",
            "\n"
          ]
        }
      ],
      "source": [
        "num_linhas = df_notificacoes.count()\n",
        "num_colunas = len(df_notificacoes.columns)\n",
        "print(f\"A tabela tem {num_linhas} linhas e {num_colunas} colunas.\")\n",
        "\n",
        "df_notificacoes.printSchema()  # Esquema da tabela\n",
        "df_notificacoes.show(5)        # Exibir as primeiras 5 linhas"
      ]
    },
    {
      "cell_type": "markdown",
      "metadata": {
        "id": "4EViIUGUc7FQ"
      },
      "source": [
        "# 3 - Pré processamento de dados"
      ]
    },
    {
      "cell_type": "markdown",
      "metadata": {
        "id": "-23MbTInkcNq"
      },
      "source": [
        "REMOÇÃO DE RUIDOS\n",
        "\n",
        "\n",
        "*   ACENTOS\n",
        "*   BR-ANVISA\n",
        "* _x000D_\n"
      ]
    },
    {
      "cell_type": "code",
      "execution_count": null,
      "metadata": {
        "collapsed": true,
        "id": "ASIhe8iJgEjO"
      },
      "outputs": [],
      "source": [
        "from pyspark.sql.functions import regexp_replace, col, upper, to_date\n",
        "\n",
        "# Função para remover acentos\n",
        "def remover_acentos(df, colunas):\n",
        "    for coluna in colunas:\n",
        "        df = df.withColumn(coluna, regexp_replace(col(coluna), \"[áàãâä]\", \"A\"))\n",
        "        df = df.withColumn(coluna, regexp_replace(col(coluna), \"[éèêë]\", \"E\"))\n",
        "        df = df.withColumn(coluna, regexp_replace(col(coluna), \"[íìîï]\", \"I\"))\n",
        "        df = df.withColumn(coluna, regexp_replace(col(coluna), \"[óòõôö]\", \"O\"))\n",
        "        df = df.withColumn(coluna, regexp_replace(col(coluna), \"[úùûü]\", \"U\"))\n",
        "        df = df.withColumn(coluna, regexp_replace(col(coluna), \"[ç]\", \"C\"))\n",
        "        df = df.withColumn(coluna, regexp_replace(col(coluna), \"[ñ]\", \"N\"))\n",
        "    return df\n",
        "\n"
      ]
    },
    {
      "cell_type": "code",
      "execution_count": null,
      "metadata": {
        "id": "tCNMDRg5kPpS"
      },
      "outputs": [],
      "source": [
        "# Identificar as colunas de texto\n",
        "colunas_texto = [col for col, dtype in df_notificacoes.dtypes if dtype == \"string\"]\n",
        "\n",
        "# Remover \"BR-ANVISA-\", \"_x000D_\", e acentos\n",
        "for coluna in colunas_texto:\n",
        "    df_notificacoes = df_notificacoes.withColumn(coluna, regexp_replace(col(coluna), \"BR-ANVISA-\", \"\"))\n",
        "    df_notificacoes = df_notificacoes.withColumn(coluna, regexp_replace(col(coluna), \"_x000D_\", \"\"))\n",
        "df_notificacoes = remover_acentos(df_notificacoes, colunas_texto)\n",
        "\n",
        "\n"
      ]
    },
    {
      "cell_type": "markdown",
      "metadata": {
        "id": "-DNenAwLkvoC"
      },
      "source": [
        "TRANSFORMAÇÃO DE TODOS REGISTROS PARA MAIÚSCULA PARA PADRONIZAR"
      ]
    },
    {
      "cell_type": "code",
      "execution_count": null,
      "metadata": {
        "id": "9Qst0I9_kz5S"
      },
      "outputs": [],
      "source": [
        "# Transformar todos os registros para maiúsculas\n",
        "for coluna in colunas_texto:\n",
        "    df_notificacoes = df_notificacoes.withColumn(coluna, upper(col(coluna)))\n"
      ]
    },
    {
      "cell_type": "markdown",
      "metadata": {
        "id": "R8nuRSLSk1Qb"
      },
      "source": [
        "REMOÇÃO DE ESPAÇOS EM BRANCO"
      ]
    },
    {
      "cell_type": "code",
      "execution_count": null,
      "metadata": {
        "id": "F8nNIoLugl5W"
      },
      "outputs": [],
      "source": [
        "from pyspark.sql.functions import trim\n",
        "\n",
        "# Remover espaços em branco de colunas de texto\n",
        "colunas_texto = [\n",
        "    \"UF\", \"TIPO_ENTRADA_VIGIMED\", \"RECEBIDO_DE\", \"TIPO_NOTIFICACAO\",\n",
        "    \"NOTIFICACAO_PARENT_CHILD\", \"IDADE_MOMENTO_REACAO\", \"GRUPO_IDADE\",\n",
        "    \"IDADE_GESTACIONAL_MOMENTO_REACAO\", \"REACAO_EVENTO_ADVERSO_MEDDRA\",\n",
        "    \"GRAVIDADE\", \"DESFECHO\", \"DURACAO\", \"RELACAO_MEDICAMENTO_EVENTO\",\n",
        "    \"NOME_MEDICAMENTO_WHODRUG\", \"ACAO_ADOTADA\", \"NOTIFICADOR\"\n",
        "]\n",
        "\n",
        "# Aplicar trim para remover espaços em branco no início e no fim\n",
        "for coluna in colunas_texto:\n",
        "    df_notificacoes = df_notificacoes.withColumn(coluna, trim(col(coluna)))\n"
      ]
    },
    {
      "cell_type": "markdown",
      "source": [
        "VERIFICAR VALORES AUSENTES OU NULOS"
      ],
      "metadata": {
        "id": "ghmvcKQT5xwK"
      }
    },
    {
      "cell_type": "code",
      "source": [
        "from pyspark.sql.functions import col, isnan, when, count\n",
        "\n",
        "# Número total de linhas no DataFrame\n",
        "total_rows = df_notificacoes.count()\n",
        "\n",
        "# Calcular valores ausentes (nulos ou NaN) e sua porcentagem para cada coluna\n",
        "missing_values = df_notificacoes.select([\n",
        "    count(when(col(c).isNull() | isnan(col(c)), c)).alias(c + \"_missing_count\") for c in df_notificacoes.columns\n",
        "] + [\n",
        "    (count(when(col(c).isNull() | isnan(col(c)), c)) / total_rows * 100).alias(c + \"_missing_percentage\") for c in df_notificacoes.columns\n",
        "])\n",
        "\n",
        "# Mostrar o resultado\n",
        "missing_values.show()\n"
      ],
      "metadata": {
        "colab": {
          "base_uri": "https://localhost:8080/"
        },
        "id": "lJiaShHk5tZN",
        "outputId": "cd857be5-982c-4932-8b0f-8c21da26139a"
      },
      "execution_count": null,
      "outputs": [
        {
          "output_type": "stream",
          "name": "stdout",
          "text": [
            "+----------------+----------------------------------+-------------------------+---------------------------------------+-----------------------------------+-------------------------------------+------------------------------+------------------------------+--------------------------------------+-----------------------------+----------------------------------+-------------------------+----------------------------------------------+------------------+----------------------+----------------------+---------------------+-----------------------+------------------------------------------+-------------------+-----------------------+----------------------+------------------------------+-----------------------------+---------------------+----------------------------------------+--------------------------------------+--------------------------+-------------------------+---------------------+---------------------------------------+------------------------------+--------------------------------------------+----------------------------------------+------------------------------------------+-----------------------------------+-----------------------------------+-------------------------------------------+----------------------------------+---------------------------------------+------------------------------+---------------------------------------------------+-----------------------+---------------------------+---------------------------+--------------------------+----------------------------+-----------------------------------------------+------------------------+----------------------------+---------------------------+-----------------------------------+----------------------------------+--------------------------+---------------------------------------------+-------------------------------------------+-------------------------------+------------------------------+\n",
            "|UF_missing_count|TIPO_ENTRADA_VIGIMED_missing_count|RECEBIDO_DE_missing_count|IDENTIFICACAO_NOTIFICACAO_missing_count|DATA_INCLUSAO_SISTEMA_missing_count|DATA_ULTIMA_ATUALIZACAO_missing_count|DATA_NOTIFICACAO_missing_count|TIPO_NOTIFICACAO_missing_count|NOTIFICACAO_PARENT_CHILD_missing_count|DATA_NASCIMENTO_missing_count|IDADE_MOMENTO_REACAO_missing_count|GRUPO_IDADE_missing_count|IDADE_GESTACIONAL_MOMENTO_REACAO_missing_count|SEXO_missing_count|GESTANTE_missing_count|LACTANTE_missing_count|PESO_KG_missing_count|ALTURA_CM_missing_count|REACAO_EVENTO_ADVERSO_MEDDRA_missing_count|GRAVE_missing_count|GRAVIDADE_missing_count|DESFECHO_missing_count|DATA_INICIO_HORA_missing_count|DATA_FINAL_HORA_missing_count|DURACAO_missing_count|RELACAO_MEDICAMENTO_EVENTO_missing_count|NOME_MEDICAMENTO_WHODRUG_missing_count|ACAO_ADOTADA_missing_count|NOTIFICADOR_missing_count|UF_missing_percentage|TIPO_ENTRADA_VIGIMED_missing_percentage|RECEBIDO_DE_missing_percentage|IDENTIFICACAO_NOTIFICACAO_missing_percentage|DATA_INCLUSAO_SISTEMA_missing_percentage|DATA_ULTIMA_ATUALIZACAO_missing_percentage|DATA_NOTIFICACAO_missing_percentage|TIPO_NOTIFICACAO_missing_percentage|NOTIFICACAO_PARENT_CHILD_missing_percentage|DATA_NASCIMENTO_missing_percentage|IDADE_MOMENTO_REACAO_missing_percentage|GRUPO_IDADE_missing_percentage|IDADE_GESTACIONAL_MOMENTO_REACAO_missing_percentage|SEXO_missing_percentage|GESTANTE_missing_percentage|LACTANTE_missing_percentage|PESO_KG_missing_percentage|ALTURA_CM_missing_percentage|REACAO_EVENTO_ADVERSO_MEDDRA_missing_percentage|GRAVE_missing_percentage|GRAVIDADE_missing_percentage|DESFECHO_missing_percentage|DATA_INICIO_HORA_missing_percentage|DATA_FINAL_HORA_missing_percentage|DURACAO_missing_percentage|RELACAO_MEDICAMENTO_EVENTO_missing_percentage|NOME_MEDICAMENTO_WHODRUG_missing_percentage|ACAO_ADOTADA_missing_percentage|NOTIFICADOR_missing_percentage|\n",
            "+----------------+----------------------------------+-------------------------+---------------------------------------+-----------------------------------+-------------------------------------+------------------------------+------------------------------+--------------------------------------+-----------------------------+----------------------------------+-------------------------+----------------------------------------------+------------------+----------------------+----------------------+---------------------+-----------------------+------------------------------------------+-------------------+-----------------------+----------------------+------------------------------+-----------------------------+---------------------+----------------------------------------+--------------------------------------+--------------------------+-------------------------+---------------------+---------------------------------------+------------------------------+--------------------------------------------+----------------------------------------+------------------------------------------+-----------------------------------+-----------------------------------+-------------------------------------------+----------------------------------+---------------------------------------+------------------------------+---------------------------------------------------+-----------------------+---------------------------+---------------------------+--------------------------+----------------------------+-----------------------------------------------+------------------------+----------------------------+---------------------------+-----------------------------------+----------------------------------+--------------------------+---------------------------------------------+-------------------------------------------+-------------------------------+------------------------------+\n",
            "|           79153|                                70|                    26702|                                      0|                                  0|                                   29|                         73092|                             0|                                242408|                        42820|                             65484|                    99966|                                        161276|              5738|                160858|                160861|                94713|                 192269|                                       197|              32983|                  77425|                 25033|                          1508|                         3069|                 3784|                                       1|                                   375|                     82834|                    10306|    32.52613498142608|                    0.02876491666392715|            10.972582925145469|                                         0.0|                                     0.0|                      0.011916894046484106|                 30.035504125710904|                                0.0|                           99.6120845524179|                 17.59591045070515|                      26.90916861172294|             41.07876656037345|                                   66.2727242841645|        2.3579013116802|          66.10095663894276|          66.10218942108551|         38.92016502843617|            79.0085966008087|                            0.08095269403990926|      13.553617804661561|          31.816052467207996|         10.286745126401263|                 0.6196784904171735|                 1.261136132022749|        1.5549492093757191|                         4.109273809132450...|                         0.1540977678424669|              34.03875867056774|             4.235017587691903|\n",
            "+----------------+----------------------------------+-------------------------+---------------------------------------+-----------------------------------+-------------------------------------+------------------------------+------------------------------+--------------------------------------+-----------------------------+----------------------------------+-------------------------+----------------------------------------------+------------------+----------------------+----------------------+---------------------+-----------------------+------------------------------------------+-------------------+-----------------------+----------------------+------------------------------+-----------------------------+---------------------+----------------------------------------+--------------------------------------+--------------------------+-------------------------+---------------------+---------------------------------------+------------------------------+--------------------------------------------+----------------------------------------+------------------------------------------+-----------------------------------+-----------------------------------+-------------------------------------------+----------------------------------+---------------------------------------+------------------------------+---------------------------------------------------+-----------------------+---------------------------+---------------------------+--------------------------+----------------------------+-----------------------------------------------+------------------------+----------------------------+---------------------------+-----------------------------------+----------------------------------+--------------------------+---------------------------------------------+-------------------------------------------+-------------------------------+------------------------------+\n",
            "\n"
          ]
        }
      ]
    },
    {
      "cell_type": "markdown",
      "source": [
        "| Coluna                                      | Valores Ausentes (Contagem) | Valores Ausentes (%)      |\n",
        "|---------------------------------------------|-----------------------------|----------------------------|\n",
        "| UF                                          | 79153                       | 32.53                     |\n",
        "| TIPO_ENTRADA_VIGIMED                        | 70                          | 0.03                      |\n",
        "| RECEBIDO_DE                                 | 26702                       | 10.97                     |\n",
        "| IDENTIFICACAO_NOTIFICACAO                   | 0                           | 0.00                      |\n",
        "| DATA_INCLUSAO_SISTEMA                       | 0                           | 0.00                      |\n",
        "| DATA_ULTIMA_ATUALIZACAO                     | 29                          | 0.01                      |\n",
        "| DATA_NOTIFICACAO                            | 73092                       | 30.04                     |\n",
        "| TIPO_NOTIFICACAO                            | 0                           | 0.00                      |\n",
        "| NOTIFICACAO_PARENT_CHILD                    | 242408                      | 99.61                     |\n",
        "| DATA_NASCIMENTO                             | 42820                       | 17.60                     |\n",
        "| IDADE_MOMENTO_REACAO                        | 65484                       | 26.91                     |\n",
        "| GRUPO_IDADE                                 | 99966                       | 41.08                     |\n",
        "| IDADE_GESTACIONAL_MOMENTO_REACAO            | 161276                      | 66.27                     |\n",
        "| SEXO                                        | 5738                        | 2.36                      |\n",
        "| GESTANTE                                    | 160858                      | 66.10                     |\n",
        "| LACTANTE                                    | 160861                      | 66.10                     |\n",
        "| PESO_KG                                     | 94713                       | 38.92                     |\n",
        "| ALTURA_CM                                   | 192269                      | 79.01                     |\n",
        "| REACAO_EVENTO_ADVERSO_MEDDRA                | 197                         | 0.08                      |\n",
        "| GRAVE                                       | 32983                       | 13.55                     |\n",
        "| GRAVIDADE                                   | 77425                       | 31.82                     |\n",
        "| DESFECHO                                    | 25033                       | 10.29                     |\n",
        "| DATA_INICIO_HORA                            | 1508                        | 0.62                      |\n",
        "| DATA_FINAL_HORA                             | 3069                        | 1.26                      |\n",
        "| DURACAO                                     | 3784                        | 1.55                      |\n",
        "| RELACAO_MEDICAMENTO_EVENTO                  | 1                           | 0.00                      |\n",
        "| NOME_MEDICAMENTO_WHODRUG                    | 375                         | 0.15                      |\n",
        "| ACAO_ADOTADA                                | 82834                       | 34.04                     |\n",
        "| NOTIFICADOR                                 | 10306                       | 4.24                      |\n"
      ],
      "metadata": {
        "id": "WYRJs7tP7c-W"
      }
    },
    {
      "cell_type": "markdown",
      "source": [
        "## 3.1 EXCLUSÃO DE ATRIBUTOS  COM MAIS DE 75% DE VALORES FALTANTES"
      ],
      "metadata": {
        "id": "k-tTQGED7rJz"
      }
    },
    {
      "cell_type": "code",
      "source": [
        "from pyspark.sql.functions import col, isnan, when, count\n",
        "\n",
        "# Número total de linhas no DataFrame\n",
        "total_rows = df_notificacoes.count()\n",
        "\n",
        "# Identificar as colunas com mais de 75% de valores ausentes\n",
        "columns_to_keep = [\n",
        "    c for c in df_notificacoes.columns\n",
        "    if df_notificacoes.select(\n",
        "        (count(when(col(c).isNull() | isnan(col(c)), c)) / total_rows * 100).alias(\"missing_percentage\")\n",
        "    ).first()[\"missing_percentage\"] <= 75\n",
        "]\n",
        "\n",
        "# Criar um novo DataFrame sem as colunas com mais de 75% de valores ausentes\n",
        "df_cleaned = df_notificacoes.select(columns_to_keep)\n",
        "\n",
        "# Mostrar as colunas restantes\n",
        "print(\"Colunas mantidas:\", df_cleaned.columns)\n"
      ],
      "metadata": {
        "colab": {
          "base_uri": "https://localhost:8080/"
        },
        "id": "40TcGMWc8FDI",
        "outputId": "850b32a8-f558-4758-d546-849a35e71181"
      },
      "execution_count": null,
      "outputs": [
        {
          "output_type": "stream",
          "name": "stdout",
          "text": [
            "Colunas mantidas: ['UF', 'TIPO_ENTRADA_VIGIMED', 'RECEBIDO_DE', 'IDENTIFICACAO_NOTIFICACAO', 'DATA_INCLUSAO_SISTEMA', 'DATA_ULTIMA_ATUALIZACAO', 'DATA_NOTIFICACAO', 'TIPO_NOTIFICACAO', 'DATA_NASCIMENTO', 'IDADE_MOMENTO_REACAO', 'GRUPO_IDADE', 'IDADE_GESTACIONAL_MOMENTO_REACAO', 'SEXO', 'GESTANTE', 'LACTANTE', 'PESO_KG', 'REACAO_EVENTO_ADVERSO_MEDDRA', 'GRAVE', 'GRAVIDADE', 'DESFECHO', 'DATA_INICIO_HORA', 'DATA_FINAL_HORA', 'DURACAO', 'RELACAO_MEDICAMENTO_EVENTO', 'NOME_MEDICAMENTO_WHODRUG', 'ACAO_ADOTADA', 'NOTIFICADOR']\n"
          ]
        }
      ]
    },
    {
      "cell_type": "markdown",
      "source": [
        "SALVAMENTO DE DF COM AS COLUNAS EXCLUÍDAS.\n",
        "\n",
        "Continuarei o tratamento das colunas utilizando o novo df, salvo em parquet(otimização computacional)"
      ],
      "metadata": {
        "id": "CbTUrQjT8TLU"
      }
    },
    {
      "cell_type": "code",
      "source": [
        "from google.colab import drive\n",
        "drive.mount('/content/drive')\n"
      ],
      "metadata": {
        "colab": {
          "base_uri": "https://localhost:8080/"
        },
        "id": "VtlJTGX38pvM",
        "outputId": "bb7df6a8-ec9c-4cab-fd86-ca9512f030c6"
      },
      "execution_count": null,
      "outputs": [
        {
          "output_type": "stream",
          "name": "stdout",
          "text": [
            "Drive already mounted at /content/drive; to attempt to forcibly remount, call drive.mount(\"/content/drive\", force_remount=True).\n"
          ]
        }
      ]
    },
    {
      "cell_type": "code",
      "source": [
        "save_path = '/content/drive/MyDrive/mestrado_carol/dissertacao/codigo/vigimed/df_notificacoescleaned'\n"
      ],
      "metadata": {
        "id": "7WkPeINO9LOp"
      },
      "execution_count": null,
      "outputs": []
    },
    {
      "cell_type": "code",
      "source": [
        "df_cleaned.write.mode(\"overwrite\").parquet(save_path + \".parquet\")\n"
      ],
      "metadata": {
        "id": "eNh3Unzw9Pad"
      },
      "execution_count": null,
      "outputs": []
    },
    {
      "cell_type": "code",
      "source": [
        "# Caminho do arquivo salvo\n",
        "save_path = '/content/drive/MyDrive/mestrado_carol/dissertacao/codigo/vigimed/df_notificacoescleaned.parquet'\n",
        "\n",
        "# Ler o arquivo Parquet salvo como um novo DataFrame\n",
        "df_cleaned_loaded = spark.read.parquet(save_path)\n",
        "\n",
        "# Mostrar as primeiras linhas para verificar\n",
        "df_cleaned_loaded.show()\n"
      ],
      "metadata": {
        "colab": {
          "base_uri": "https://localhost:8080/"
        },
        "id": "55tWAkgX-DKG",
        "outputId": "ab7ea5f2-e4bb-46dc-d941-96a38a63e210"
      },
      "execution_count": null,
      "outputs": [
        {
          "output_type": "stream",
          "name": "stdout",
          "text": [
            "+---+--------------------+--------------------+-------------------------+---------------------+-----------------------+----------------+--------------------+---------------+--------------------+-----------+--------------------------------+---------+--------+--------+-------+----------------------------+--------------------+--------------------+--------------------+--------------------+--------------------+--------------------+--------------------------+------------------------+--------------------+--------------------+\n",
            "| UF|TIPO_ENTRADA_VIGIMED|         RECEBIDO_DE|IDENTIFICACAO_NOTIFICACAO|DATA_INCLUSAO_SISTEMA|DATA_ULTIMA_ATUALIZACAO|DATA_NOTIFICACAO|    TIPO_NOTIFICACAO|DATA_NASCIMENTO|IDADE_MOMENTO_REACAO|GRUPO_IDADE|IDADE_GESTACIONAL_MOMENTO_REACAO|     SEXO|GESTANTE|LACTANTE|PESO_KG|REACAO_EVENTO_ADVERSO_MEDDRA|               GRAVE|           GRAVIDADE|            DESFECHO|    DATA_INICIO_HORA|     DATA_FINAL_HORA|             DURACAO|RELACAO_MEDICAMENTO_EVENTO|NOME_MEDICAMENTO_WHODRUG|        ACAO_ADOTADA|         NOTIFICADOR|\n",
            "+---+--------------------+--------------------+-------------------------+---------------------+-----------------------+----------------+--------------------+---------------+--------------------+-----------+--------------------------------+---------+--------+--------+-------+----------------------------+--------------------+--------------------+--------------------+--------------------+--------------------+--------------------+--------------------------+------------------------+--------------------+--------------------+\n",
            "| SP|EMPRESAS FARMACEU...|EMPRESA FARMACEUTICA|                300212656|             20230928|               20230928|            NONE|NOTIFICACAO ESPON...|       19900131|              30 ANO|       NONE|                            NONE| FEMININO|    NAO |    NAO |   68.0|                 HEMIPARESIA|                 SIM|OUTRO EFEITO CLIN...|RECUPERADO/RESOLV...|           20210125 |           20210206 |              12 DIA|      CONCOMITANTE|CONC...|    TAMISA|AEROLIN|FL...|    |||NAO APLICAVEL|              MEDICO|\n",
            "| SP|EMPRESAS FARMACEU...|EMPRESA FARMACEUTICA|                300208322|             20230901|               20230901|            NONE|NOTIFICACAO ESPON...|           NONE|                NONE|       NONE|                            NONE| FEMININO|    NAO |    NAO |   NONE|        CEFALEIA|GESTACAO...|     NAO|NAO|SIM|NAO|||OUTRO EFEITO CL...|DESCONHECIDO|DESC...|20210122 |2021012...|              | | | |               | | ||                  SUSPEITO|               CORONAVAC|       NAO APLICAVEL|CONSUMIDOR OU OUT...|\n",
            "| SP|EMPRESAS FARMACEU...|EMPRESA FARMACEUTICA|                300214015|             20231006|               20231006|            NONE|NOTIFICACAO ESPON...|       19710522|              49 ANO|       NONE|                            NONE|MASCULINO|    NAO |    NAO |   NONE|        NEFROLITIASE|POLI...|             SIM|SIM|HOSPITALIZACAO/PR...|DESCONHECIDO|DESC...|     20210203 |2021 |                  | |                   ||      CONCOMITANTE|SUSP...|    METFORMINA|CORONAVAC|                   ||MEDICO|OUTRO PROF...|\n",
            "| SP|EMPRESAS FARMACEU...|EMPRESA FARMACEUTICA|                300212385|             20230927|               20230927|            NONE|NOTIFICACAO ESPON...|           NONE|                NONE|       NONE|                            NONE|MASCULINO|    NAO |    NAO |   NONE|        ABSCESSO NASAL|IN...|             SIM|NAO|OUTRO EFEITO CLIN...|DESCONHECIDO|DESC...|                  | |                  | |                   ||                  SUSPEITO|    VACINA ADSORVIDA ...|                null|CONSUMIDOR OU OUT...|\n",
            "| SP|EMPRESAS FARMACEU...|EMPRESA FARMACEUTICA|                300212764|             20230929|               20230929|            NONE|NOTIFICACAO ESPON...|       19820505|              39 ANO|       NONE|                            NONE|MASCULINO|    NAO |    NAO |   NONE|        DESCOMPENSACAO ME...|             SIM|SIM|OUTRO EFEITO CLIN...|DESCONHECIDO|DESC...|                  | |                  | |                   ||                  SUSPEITO|               CORONAVAC|        DESCONHECIDO|CONSUMIDOR OU OUT...|\n",
            "| SP|EMPRESAS FARMACEU...|EMPRESA FARMACEUTICA|                300270421|             20240520|               20240520|            NONE|NOTIFICACAO ESPON...|       19781005|              42 ANO|       NONE|                            NONE| FEMININO|    NAO |    NAO |   78.0|        HIPEREMIA|ERITEMA...|         NAO|NAO|NAO|                  |||RECUPERADO/RESOLV...|20210513 |2021051...|                | | |                 | ||                  SUSPEITO|    VACINA INFLUENZA ...|        DESCONHECIDO|OUTRO PROFISSIONA...|\n",
            "| SP|EMPRESAS FARMACEU...|EMPRESA FARMACEUTICA|                300257351|             20240307|               20240307|            NONE|NOTIFICACAO ESPON...|       19620608|              61 ANO|       NONE|                            NONE| FEMININO|    NAO |    NAO |   66.0|              NEURITE OPTICA|                 SIM|HOSPITALIZACAO/PR...|RECUPERADO/RESOLV...|               2009 |               2009 |                    |         SUSPEITO|SUSPEITO|    VACINA INFLUENZA ...|RETIRADA DO MEDIC...|CONSUMIDOR OU OUT...|\n",
            "| SP|EMPRESAS FARMACEU...|EMPRESA FARMACEUTICA|                300272878|             20240604|               20240604|            NONE|NOTIFICACAO ESPON...|           NONE|              81 ANO|       NONE|                            NONE| FEMININO|    NAO |    NAO |   75.0|        HIPEREMIA|CALOR N...|         NAO|NAO|NAO|                  |||RECUPERADO/RESOLV...|20210513 |2021051...|                | | |                 | ||                  SUSPEITO|    VACINA INFLUENZA ...|        DESCONHECIDO|OUTRO PROFISSIONA...|\n",
            "| SP|EMPRESAS FARMACEU...|EMPRESA FARMACEUTICA|                300270512|             20240520|               20240520|            NONE|NOTIFICACAO ESPON...|       19600904|              60 ANO|       NONE|                            NONE| FEMININO|    NAO |    NAO |   NONE|        CALOR CUTANEO|ERI...|         NAO|NAO|NAO|                  |||DESCONHECIDO|DESC...|20210413 |2021041...| |20210413 |20210...|        |1 DIA|1 DIA|      CONCOMITANTE|SUSP...|    SOMALGIN|VACINA I...||DESCONHECIDO|DES...|              MEDICO|\n",
            "| SP|EMPRESAS FARMACEU...|EMPRESA FARMACEUTICA|                300272885|             20240604|               20240604|            NONE|NOTIFICACAO ESPON...|       19600111|              61 ANO|       NONE|                            NONE| FEMININO|    NAO |    NAO |   NONE|        CALOR CUTANEO|DOR...|     NAO|NAO|NAO|NAO|                 ||||DESCONHECIDO|DESC...|20210412 |2021041...|      | |20210412 | |           | |1 DIA||         SUSPEITO|SUSPEITO|    VACINA INFLUENZA ...|DESCONHECIDO|DESC...|              MEDICO|\n",
            "| SP|EMPRESAS FARMACEU...|EMPRESA FARMACEUTICA|                300260262|             20240325|               20240325|            NONE|NOTIFICACAO ESPON...|       19720328|              49 ANO|       NONE|                            NONE| FEMININO|    NAO |    NAO |   NONE|        CALOR CUTANEO|DOR...|     NAO|NAO|NAO|NAO|                 ||||DESCONHECIDO|DESC...|20210412 |2021041...|      | |20210412 | |           | |1 DIA||         SUSPEITO|SUSPEITO|    VACINA INFLUENZA ...|DESCONHECIDO|DESC...|              MEDICO|\n",
            "| SP|EMPRESAS FARMACEU...|EMPRESA FARMACEUTICA|                300270485|             20240520|               20240520|            NONE|NOTIFICACAO ESPON...|       19730228|              48 ANO|       NONE|                            NONE| FEMININO|    NAO |    NAO |   NONE|        PRURIDO NO LOCAL ...|             NAO|NAO|                   ||RECUPERADO/RESOLV...| 20210414 |20210414 | 20210415 |20210415 |         1 DIA|1 DIA|                  SUSPEITO|    VACINA INFLUENZA ...|        DESCONHECIDO|              MEDICO|\n",
            "| SP|EMPRESAS FARMACEU...|EMPRESA FARMACEUTICA|                300272891|             20240604|               20240604|            NONE|NOTIFICACAO ESPON...|       20200327|               1 ANO|       NONE|                            NONE| FEMININO|    NAO |    NAO |   NONE|        RINITE|DOR|VOMITO...|     NAO|NAO|NAO|NAO|                 ||||RECUPERADO/RESOLV...|20210415 |2021041...|20210417 |2021041...|2 DIA|2 DIA|2 DIA...|                  SUSPEITO|    VACINA INFLUENZA ...|        DESCONHECIDO|              MEDICO|\n",
            "| SP|EMPRESAS FARMACEU...|EMPRESA FARMACEUTICA|                300273077|             20240605|               20240605|            NONE|NOTIFICACAO ESPON...|           NONE|              71 ANO|       NONE|                            NONE|MASCULINO|    NAO |    NAO |   80.0|        COVID-19|PARADA R...|     SIM|SIM|SIM|NAO|RESULTOU EM OBITO...|FATAL/ÓBITO|FATAL...|20210526 |2021060...|20210603 |2021060...| 8 DIA|1 DIA| |8 DIA|         SUSPEITO|SUSPEITO|     INFLUENZA|INFLUENZA|DESCONHECIDO|DESC...|CONSUMIDOR OU OUT...|\n",
            "| SP|EMPRESAS FARMACEU...|EMPRESA FARMACEUTICA|                300253018|             20240209|               20240209|            NONE|NOTIFICACAO ESPON...|       19721127|              48 ANO|       NONE|                            NONE| FEMININO|    NAO |    NAO |   NONE|        ARTROPATIA|AMNESI...|NAO|NAO|SIM|NAO|N...|||OUTRO EFEITO CL...|RECUPERADO/RESOLV...|202103 |202103 |2...|          | | | | | |           | | | | ||                  SUSPEITO|    VACINA ADSORVIDA ...|        DESCONHECIDO|OUTRO PROFISSIONA...|\n",
            "| SP|EMPRESAS FARMACEU...|EMPRESA FARMACEUTICA|                300224656|             20231212|               20231212|            NONE|NOTIFICACAO ESPON...|           NONE|              36 ANO|       NONE|                            NONE| FEMININO|    NAO |    NAO |   NONE|        MIALGIA|ARTRALGIA...|         NAO|NAO|SIM|||OUTRO EFEITO CL...|NAO RECUPERADO/NA...|202107 |202107 |2...|                | | |                 | ||                  SUSPEITO|    VACINA ADSORVIDA ...|       NAO APLICAVEL|OUTRO PROFISSIONA...|\n",
            "| SP|EMPRESAS FARMACEU...|EMPRESA FARMACEUTICA|                300271424|             20240524|               20240524|            NONE|NOTIFICACAO ESPON...|       19790519|              41 ANO|       NONE|                            NONE| FEMININO|    NAO |    NAO |   NONE|        REMOCAO DE PROTES...| SIM|NAO|NAO|SIM|NAO|HOSPITALIZACAO/PR...|DESCONHECIDO|NAO ...|20210504 | | |202...|            | | | | |             | | | ||      SUSPEITO|SUSPEITO...|    SORO ANTIRRABICO|...|                  |||MEDICO|OUTRO PROF...|\n",
            "| SP|EMPRESAS FARMACEU...|EMPRESA FARMACEUTICA|                300228340|             20240105|               20240105|            NONE|NOTIFICACAO ESPON...|       19701026|              53 ANO|       NONE|                            NONE|MASCULINO|    NAO |    NAO |   93.0|        CAPACIDADE DE RES...|         NAO|NAO|SIM|||OUTRO EFEITO CL...|DESCONHECIDO|DESC...| |20210721 |20210...|                | | |                 | ||         SUSPEITO|SUSPEITO|    VACINA ADSORVIDA ...|                   ||CONSUMIDOR OU OUT...|\n",
            "| SP|EMPRESAS FARMACEU...|EMPRESA FARMACEUTICA|                300270599|             20240521|               20240521|            NONE|NOTIFICACAO ESPON...|       20111126|              10 ANO|       NONE|                            NONE|MASCULINO|    NAO |    NAO |   NONE|        QUEDA|CHOQUE SEPT...| SIM|SIM|SIM|NAO|NAO|RESULTOU EM OBITO...|FATAL/ÓBITO|FATAL...|20220130 |2022013...|20220130 |2022020...|1 DIA|7 DIA|7 DIA| ||      CONCOMITANTE|SUSP...|     CORONAVAC|INFLUENZA|NAO APLICAVEL|NAO...|OUTRO PROFISSIONA...|\n",
            "| SP|EMPRESAS FARMACEU...|EMPRESA FARMACEUTICA|                300201439|             20230721|               20230721|            NONE|NOTIFICACAO ESPON...|       19700818|              51 ANO|       NONE|                            NONE| FEMININO|    NAO |    NAO |   75.0|                    COVID-19|                 SIM|HOSPITALIZACAO/PR...|NAO RECUPERADO/NA...|           20220131 |                    |                    |                  SUSPEITO|               CORONAVAC|       NAO APLICAVEL|MEDICO|CONSUMIDOR...|\n",
            "+---+--------------------+--------------------+-------------------------+---------------------+-----------------------+----------------+--------------------+---------------+--------------------+-----------+--------------------------------+---------+--------+--------+-------+----------------------------+--------------------+--------------------+--------------------+--------------------+--------------------+--------------------+--------------------------+------------------------+--------------------+--------------------+\n",
            "only showing top 20 rows\n",
            "\n"
          ]
        }
      ]
    },
    {
      "cell_type": "markdown",
      "source": [
        "## 3.1 TRATAMENTO ATRIBUTO RS\n",
        "Substituição de ausentes por \"DESCONHECIDO\""
      ],
      "metadata": {
        "id": "FKltThqx-fwT"
      }
    },
    {
      "cell_type": "code",
      "source": [
        "df_cleaned_loaded = df_cleaned_loaded.fillna({\"UF\": \"DESCONHECIDO\"})\n",
        "\n",
        "# Verificar o resultado\n",
        "df_cleaned_loaded.select(\"UF\").show()\n"
      ],
      "metadata": {
        "colab": {
          "base_uri": "https://localhost:8080/"
        },
        "id": "r7TSGKVC-1X8",
        "outputId": "76080aa5-041a-4804-aedc-ae58fe31eb57"
      },
      "execution_count": null,
      "outputs": [
        {
          "output_type": "stream",
          "name": "stdout",
          "text": [
            "+---+\n",
            "| UF|\n",
            "+---+\n",
            "| SP|\n",
            "| SP|\n",
            "| SP|\n",
            "| SP|\n",
            "| SP|\n",
            "| SP|\n",
            "| SP|\n",
            "| SP|\n",
            "| SP|\n",
            "| SP|\n",
            "| SP|\n",
            "| SP|\n",
            "| SP|\n",
            "| SP|\n",
            "| SP|\n",
            "| SP|\n",
            "| SP|\n",
            "| SP|\n",
            "| SP|\n",
            "| SP|\n",
            "+---+\n",
            "only showing top 20 rows\n",
            "\n"
          ]
        }
      ]
    },
    {
      "cell_type": "markdown",
      "source": [
        "CONFIRMAÇÃO DE TRATAMENTO"
      ],
      "metadata": {
        "id": "cRvvyZPK_KB4"
      }
    },
    {
      "cell_type": "code",
      "source": [
        "from pyspark.sql.functions import col, isnan, when, count\n",
        "\n",
        "# Calcular a porcentagem de valores ausentes na coluna UF\n",
        "total_rows = df_cleaned_loaded.count()\n",
        "missing_uf_count = df_cleaned_loaded.filter(col(\"UF\").isNull() | isnan(col(\"UF\"))).count()\n",
        "missing_uf_percentage = (missing_uf_count / total_rows) * 100\n",
        "\n",
        "# Exibir os resultados\n",
        "print(f\"Total de linhas: {total_rows}\")\n",
        "print(f\"Valores ausentes na coluna 'UF': {missing_uf_count}\")\n",
        "print(f\"Porcentagem de valores ausentes em 'UF': {missing_uf_percentage:.2f}%\")\n"
      ],
      "metadata": {
        "colab": {
          "base_uri": "https://localhost:8080/"
        },
        "id": "2KrN0bDA_M4G",
        "outputId": "ee425e93-db4b-4644-8b94-f10e223e06f4"
      },
      "execution_count": null,
      "outputs": [
        {
          "output_type": "stream",
          "name": "stdout",
          "text": [
            "Total de linhas: 243352\n",
            "Valores ausentes na coluna 'UF': 0\n",
            "Porcentagem de valores ausentes em 'UF': 0.00%\n"
          ]
        }
      ]
    },
    {
      "cell_type": "markdown",
      "source": [
        "## 3.2 TRATAMENTO COLUNA TIPO_ENTRADA_VIGIMED\n",
        "Como o valor é insifnificante, decidi excluir os registros ausentes."
      ],
      "metadata": {
        "id": "vQekzpvu_PXw"
      }
    },
    {
      "cell_type": "code",
      "source": [
        "df_cleaned_loaded = df_cleaned_loaded.filter(df_cleaned_loaded.TIPO_ENTRADA_VIGIMED.isNotNull())\n",
        "\n",
        "# Verificar o resultado\n",
        "df_cleaned_loaded.select(\"TIPO_ENTRADA_VIGIMED\").show()\n"
      ],
      "metadata": {
        "colab": {
          "base_uri": "https://localhost:8080/"
        },
        "id": "rMHw6YXp_re1",
        "outputId": "55a6cbf8-b9b0-4364-b4e5-c8ebce2d37c9"
      },
      "execution_count": null,
      "outputs": [
        {
          "output_type": "stream",
          "name": "stdout",
          "text": [
            "+--------------------+\n",
            "|TIPO_ENTRADA_VIGIMED|\n",
            "+--------------------+\n",
            "|EMPRESAS FARMACEU...|\n",
            "|EMPRESAS FARMACEU...|\n",
            "|EMPRESAS FARMACEU...|\n",
            "|EMPRESAS FARMACEU...|\n",
            "|EMPRESAS FARMACEU...|\n",
            "|EMPRESAS FARMACEU...|\n",
            "|EMPRESAS FARMACEU...|\n",
            "|EMPRESAS FARMACEU...|\n",
            "|EMPRESAS FARMACEU...|\n",
            "|EMPRESAS FARMACEU...|\n",
            "|EMPRESAS FARMACEU...|\n",
            "|EMPRESAS FARMACEU...|\n",
            "|EMPRESAS FARMACEU...|\n",
            "|EMPRESAS FARMACEU...|\n",
            "|EMPRESAS FARMACEU...|\n",
            "|EMPRESAS FARMACEU...|\n",
            "|EMPRESAS FARMACEU...|\n",
            "|EMPRESAS FARMACEU...|\n",
            "|EMPRESAS FARMACEU...|\n",
            "|EMPRESAS FARMACEU...|\n",
            "+--------------------+\n",
            "only showing top 20 rows\n",
            "\n"
          ]
        }
      ]
    },
    {
      "cell_type": "markdown",
      "source": [
        "## 3.3 TRATAMENTO COLUNA RECEBIDO_DE"
      ],
      "metadata": {
        "id": "6DyqRsraAbB5"
      }
    },
    {
      "cell_type": "code",
      "source": [
        "df_cleaned_loaded = df_cleaned_loaded.fillna({\"RECEBIDO_DE\": \"DESCONHECIDO\"})\n",
        "\n",
        "# Verificar o resultado\n",
        "df_cleaned_loaded.select(\"RECEBIDO_DE\").show()\n"
      ],
      "metadata": {
        "colab": {
          "base_uri": "https://localhost:8080/"
        },
        "id": "ekYnnCIjAhOi",
        "outputId": "d385beea-5616-4d75-954c-cba30ef1df21"
      },
      "execution_count": null,
      "outputs": [
        {
          "output_type": "stream",
          "name": "stdout",
          "text": [
            "+--------------------+\n",
            "|         RECEBIDO_DE|\n",
            "+--------------------+\n",
            "|EMPRESA FARMACEUTICA|\n",
            "|EMPRESA FARMACEUTICA|\n",
            "|EMPRESA FARMACEUTICA|\n",
            "|EMPRESA FARMACEUTICA|\n",
            "|EMPRESA FARMACEUTICA|\n",
            "|EMPRESA FARMACEUTICA|\n",
            "|EMPRESA FARMACEUTICA|\n",
            "|EMPRESA FARMACEUTICA|\n",
            "|EMPRESA FARMACEUTICA|\n",
            "|EMPRESA FARMACEUTICA|\n",
            "|EMPRESA FARMACEUTICA|\n",
            "|EMPRESA FARMACEUTICA|\n",
            "|EMPRESA FARMACEUTICA|\n",
            "|EMPRESA FARMACEUTICA|\n",
            "|EMPRESA FARMACEUTICA|\n",
            "|EMPRESA FARMACEUTICA|\n",
            "|EMPRESA FARMACEUTICA|\n",
            "|EMPRESA FARMACEUTICA|\n",
            "|EMPRESA FARMACEUTICA|\n",
            "|EMPRESA FARMACEUTICA|\n",
            "+--------------------+\n",
            "only showing top 20 rows\n",
            "\n"
          ]
        }
      ]
    },
    {
      "cell_type": "markdown",
      "source": [
        "## 3.4 TRATAMENTO COLUNA DATA_ULTIMA_ATUALIZACAO\n",
        "Substitui nulos por uma data padrão \"1900-01-01\""
      ],
      "metadata": {
        "id": "gN66VrwAAuKp"
      }
    },
    {
      "cell_type": "code",
      "source": [
        "from pyspark.sql.functions import lit\n",
        "\n",
        "# Preencher valores ausentes com uma data padrão\n",
        "df_cleaned_loaded = df_cleaned_loaded.fillna({\"DATA_ULTIMA_ATUALIZACAO\": \"1900-01-01\"})\n",
        "\n",
        "# Verificar o resultado\n",
        "df_cleaned_loaded.select(\"DATA_ULTIMA_ATUALIZACAO\").show()\n"
      ],
      "metadata": {
        "colab": {
          "base_uri": "https://localhost:8080/"
        },
        "id": "F_YY_fijA13M",
        "outputId": "c71181d6-3ab0-4058-eab6-18d6e9cd35ef"
      },
      "execution_count": 37,
      "outputs": [
        {
          "output_type": "stream",
          "name": "stdout",
          "text": [
            "+-----------------------+\n",
            "|DATA_ULTIMA_ATUALIZACAO|\n",
            "+-----------------------+\n",
            "|    1900-01-01 00:00:00|\n",
            "|    1900-01-01 00:00:00|\n",
            "|    1900-01-01 00:00:00|\n",
            "|    1900-01-01 00:00:00|\n",
            "|    1900-01-01 00:00:00|\n",
            "|    1900-01-01 00:00:00|\n",
            "|    1900-01-01 00:00:00|\n",
            "|    1900-01-01 00:00:00|\n",
            "|    1900-01-01 00:00:00|\n",
            "|    1900-01-01 00:00:00|\n",
            "|    1900-01-01 00:00:00|\n",
            "|    1900-01-01 00:00:00|\n",
            "|    1900-01-01 00:00:00|\n",
            "|    1900-01-01 00:00:00|\n",
            "|    1900-01-01 00:00:00|\n",
            "|    1900-01-01 00:00:00|\n",
            "|    1900-01-01 00:00:00|\n",
            "|    1900-01-01 00:00:00|\n",
            "|    1900-01-01 00:00:00|\n",
            "|    1900-01-01 00:00:00|\n",
            "+-----------------------+\n",
            "only showing top 20 rows\n",
            "\n"
          ]
        }
      ]
    },
    {
      "cell_type": "markdown",
      "source": [
        "ALTERAR PARA TIMESTAMP"
      ],
      "metadata": {
        "id": "6Jtl-nBhEdtm"
      }
    },
    {
      "cell_type": "code",
      "source": [
        "from pyspark.sql.functions import to_timestamp\n",
        "\n",
        "# Converter a coluna DATA_ULTIMA_ATUALIZACAO para o tipo Timestamp\n",
        "df_cleaned_loaded = df_cleaned_loaded.withColumn(\n",
        "    \"DATA_ULTIMA_ATUALIZACAO\",\n",
        "    to_timestamp(\"DATA_ULTIMA_ATUALIZACAO\", \"yyyy-MM-dd HH:mm:ss\")\n",
        ")\n",
        "\n",
        "# Verificar a atualização\n",
        "df_cleaned_loaded.select(\"DATA_ULTIMA_ATUALIZACAO\").printSchema()\n",
        "df_cleaned_loaded.select(\"DATA_ULTIMA_ATUALIZACAO\").show()\n"
      ],
      "metadata": {
        "colab": {
          "base_uri": "https://localhost:8080/"
        },
        "id": "MyTEMryPEatx",
        "outputId": "e2b1f470-d97d-4a80-c19b-8a6272ca8337"
      },
      "execution_count": 38,
      "outputs": [
        {
          "output_type": "stream",
          "name": "stdout",
          "text": [
            "root\n",
            " |-- DATA_ULTIMA_ATUALIZACAO: timestamp (nullable = true)\n",
            "\n",
            "+-----------------------+\n",
            "|DATA_ULTIMA_ATUALIZACAO|\n",
            "+-----------------------+\n",
            "|    1900-01-01 00:00:00|\n",
            "|    1900-01-01 00:00:00|\n",
            "|    1900-01-01 00:00:00|\n",
            "|    1900-01-01 00:00:00|\n",
            "|    1900-01-01 00:00:00|\n",
            "|    1900-01-01 00:00:00|\n",
            "|    1900-01-01 00:00:00|\n",
            "|    1900-01-01 00:00:00|\n",
            "|    1900-01-01 00:00:00|\n",
            "|    1900-01-01 00:00:00|\n",
            "|    1900-01-01 00:00:00|\n",
            "|    1900-01-01 00:00:00|\n",
            "|    1900-01-01 00:00:00|\n",
            "|    1900-01-01 00:00:00|\n",
            "|    1900-01-01 00:00:00|\n",
            "|    1900-01-01 00:00:00|\n",
            "|    1900-01-01 00:00:00|\n",
            "|    1900-01-01 00:00:00|\n",
            "|    1900-01-01 00:00:00|\n",
            "|    1900-01-01 00:00:00|\n",
            "+-----------------------+\n",
            "only showing top 20 rows\n",
            "\n"
          ]
        }
      ]
    },
    {
      "cell_type": "markdown",
      "source": [
        "## 3.5 TRATAMENTO COLUNA DATA_NOTIFICACAO"
      ],
      "metadata": {
        "id": "bvNr6XVCBz0B"
      }
    },
    {
      "cell_type": "code",
      "source": [
        "df_cleaned_loaded = df_cleaned_loaded.filter(col(\"DATA_NOTIFICACAO\").isNotNull())\n",
        "\n",
        "# Verificar o resultado\n",
        "df_cleaned_loaded.select(\"DATA_NOTIFICACAO\").show()\n"
      ],
      "metadata": {
        "colab": {
          "base_uri": "https://localhost:8080/"
        },
        "id": "-3ApbssDCCMO",
        "outputId": "caebd312-5344-4826-dca2-3f0fb6e53e06"
      },
      "execution_count": null,
      "outputs": [
        {
          "output_type": "stream",
          "name": "stdout",
          "text": [
            "+----------------+\n",
            "|DATA_NOTIFICACAO|\n",
            "+----------------+\n",
            "|            NONE|\n",
            "|            NONE|\n",
            "|            NONE|\n",
            "|            NONE|\n",
            "|            NONE|\n",
            "|            NONE|\n",
            "|            NONE|\n",
            "|            NONE|\n",
            "|            NONE|\n",
            "|            NONE|\n",
            "|            NONE|\n",
            "|            NONE|\n",
            "|            NONE|\n",
            "|            NONE|\n",
            "|            NONE|\n",
            "|            NONE|\n",
            "|            NONE|\n",
            "|            NONE|\n",
            "|            NONE|\n",
            "|            NONE|\n",
            "+----------------+\n",
            "only showing top 20 rows\n",
            "\n"
          ]
        }
      ]
    },
    {
      "cell_type": "markdown",
      "source": [
        "ALTERAR PARA TIMESTAMP"
      ],
      "metadata": {
        "id": "pDc-5d6CE574"
      }
    },
    {
      "cell_type": "code",
      "source": [
        "from pyspark.sql.functions import to_timestamp\n",
        "\n",
        "# Converter a coluna DATA_NITIFICACAO para o tipo Timestamp\n",
        "df_cleaned_loaded = df_cleaned_loaded.withColumn(\n",
        "    \"DATA_NOTIFICACAO\",\n",
        "    to_timestamp(\"DATA_NOTIFICACAO\", \"yyyy-MM-dd HH:mm:ss\")\n",
        ")\n",
        "\n",
        "# Verificar a atualização\n",
        "df_cleaned_loaded.select(\"DATA_NOTIFICACAO\").printSchema()\n",
        "df_cleaned_loaded.select(\"DATA_NOTIFICACAO\").show()\n"
      ],
      "metadata": {
        "id": "wiDK9v13ErYH"
      },
      "execution_count": null,
      "outputs": []
    },
    {
      "cell_type": "markdown",
      "source": [
        "## 3.6 TRATAMENTO COLUNA DATA_NASCIMENTO\n",
        "\n",
        "Substitui por uma data padrão \"1900-01-01\""
      ],
      "metadata": {
        "id": "s7WRsPjfCcQI"
      }
    },
    {
      "cell_type": "code",
      "source": [
        "df_cleaned_loaded = df_cleaned_loaded.fillna({\"DATA_NASCIMENTO\": \"1900-01-01\"})\n",
        "\n",
        "# Verificar o resultado\n",
        "df_cleaned_loaded.select(\"DATA_NASCIMENTO\").show()\n",
        "\n"
      ],
      "metadata": {
        "colab": {
          "base_uri": "https://localhost:8080/"
        },
        "id": "-3BN2xzVC3v1",
        "outputId": "dc2723b7-2b78-46a2-b560-7ab153be357b"
      },
      "execution_count": null,
      "outputs": [
        {
          "output_type": "stream",
          "name": "stdout",
          "text": [
            "+---------------+\n",
            "|DATA_NASCIMENTO|\n",
            "+---------------+\n",
            "|       19900131|\n",
            "|           NONE|\n",
            "|       19710522|\n",
            "|           NONE|\n",
            "|       19820505|\n",
            "|       19781005|\n",
            "|       19620608|\n",
            "|           NONE|\n",
            "|       19600904|\n",
            "|       19600111|\n",
            "|       19720328|\n",
            "|       19730228|\n",
            "|       20200327|\n",
            "|           NONE|\n",
            "|       19721127|\n",
            "|           NONE|\n",
            "|       19790519|\n",
            "|       19701026|\n",
            "|       20111126|\n",
            "|       19700818|\n",
            "+---------------+\n",
            "only showing top 20 rows\n",
            "\n"
          ]
        }
      ]
    },
    {
      "cell_type": "code",
      "source": [
        "from pyspark.sql.functions import to_date\n",
        "\n",
        "# Converter a coluna DATA_NASCIMENTO para o tipo Date\n",
        "df_cleaned_loaded = df_cleaned_loaded.withColumn(\n",
        "    \"DATA_NASCIMENTO\",\n",
        "    to_date(\"DATA_NASCIMENTO\", \"yyyy-MM-dd\")  # Ajuste o formato se necessário\n",
        ")\n",
        "\n",
        "# Verificar a atualização\n",
        "df_cleaned_loaded.select(\"DATA_NASCIMENTO\").printSchema()\n",
        "df_cleaned_loaded.select(\"DATA_NASCIMENTO\").show()\n"
      ],
      "metadata": {
        "colab": {
          "base_uri": "https://localhost:8080/"
        },
        "id": "BHTSxxuRHG-f",
        "outputId": "935ba2f4-eba2-4548-a48a-e2b4e868456b"
      },
      "execution_count": 42,
      "outputs": [
        {
          "output_type": "stream",
          "name": "stdout",
          "text": [
            "root\n",
            " |-- DATA_NASCIMENTO: date (nullable = true)\n",
            "\n",
            "+---------------+\n",
            "|DATA_NASCIMENTO|\n",
            "+---------------+\n",
            "|           null|\n",
            "|           null|\n",
            "|           null|\n",
            "|           null|\n",
            "|           null|\n",
            "|           null|\n",
            "|           null|\n",
            "|           null|\n",
            "|           null|\n",
            "|           null|\n",
            "|           null|\n",
            "|           null|\n",
            "|           null|\n",
            "|           null|\n",
            "|           null|\n",
            "|           null|\n",
            "|           null|\n",
            "|           null|\n",
            "|           null|\n",
            "|           null|\n",
            "+---------------+\n",
            "only showing top 20 rows\n",
            "\n"
          ]
        }
      ]
    },
    {
      "cell_type": "markdown",
      "source": [
        "## 3.7 TRATAMENTO COLUNA IDADE_MOMENTO_REACAO"
      ],
      "metadata": {
        "id": "7j1vf29VHK_k"
      }
    },
    {
      "cell_type": "code",
      "source": [
        "from pyspark.sql.functions import regexp_extract\n",
        "\n",
        "# Extrair apenas os números da coluna IDADE_MOMENTO_REACAO\n",
        "df_cleaned_loaded = df_cleaned_loaded.withColumn(\n",
        "    \"IDADE_MOMENTO_REACAO\",\n",
        "    regexp_extract(\"IDADE_MOMENTO_REACAO\", r\"(\\d+)\", 1)\n",
        ")\n"
      ],
      "metadata": {
        "id": "oDBOE2EHHePw"
      },
      "execution_count": 43,
      "outputs": []
    },
    {
      "cell_type": "markdown",
      "source": [
        "CONVERTER PARA O TIPO INTEIRO"
      ],
      "metadata": {
        "id": "v1iarCKUHf5p"
      }
    },
    {
      "cell_type": "code",
      "source": [
        "# Converter a coluna para o tipo inteiro\n",
        "df_cleaned_loaded = df_cleaned_loaded.withColumn(\n",
        "    \"IDADE_MOMENTO_REACAO\",\n",
        "    col(\"IDADE_MOMENTO_REACAO\").cast(\"int\")\n",
        ")\n"
      ],
      "metadata": {
        "id": "YOW3uRWZHhsP"
      },
      "execution_count": 44,
      "outputs": []
    },
    {
      "cell_type": "markdown",
      "source": [
        "INPUTAR VALORES FALTANTES COM BASE EM DATA_NASCIMENTO e DATA_NOTIFICACAO"
      ],
      "metadata": {
        "id": "2rYGAiokHlzy"
      }
    },
    {
      "cell_type": "code",
      "source": [
        "from pyspark.sql.functions import datediff, floor\n",
        "\n",
        "# Imputar idade com base em DATA_NASCIMENTO e DATA_NOTIFICACAO\n",
        "df_cleaned_loaded = df_cleaned_loaded.withColumn(\n",
        "    \"IDADE_MOMENTO_REACAO\",\n",
        "    when(\n",
        "        col(\"IDADE_MOMENTO_REACAO\").isNull() & col(\"DATA_NASCIMENTO\").isNotNull() & col(\"DATA_NOTIFICACAO\").isNotNull(),\n",
        "        floor(datediff(col(\"DATA_NOTIFICACAO\"), col(\"DATA_NASCIMENTO\")) / 365.25)\n",
        "    ).otherwise(col(\"IDADE_MOMENTO_REACAO\"))\n",
        ")\n"
      ],
      "metadata": {
        "id": "MAwm34hUHk_n"
      },
      "execution_count": 45,
      "outputs": []
    },
    {
      "cell_type": "code",
      "source": [
        "# Verificar o tipo da coluna e os dados\n",
        "df_cleaned_loaded.select(\"IDADE_MOMENTO_REACAO\").printSchema()\n",
        "df_cleaned_loaded.select(\"IDADE_MOMENTO_REACAO\").show()\n"
      ],
      "metadata": {
        "colab": {
          "base_uri": "https://localhost:8080/"
        },
        "id": "XSPGxvcLHwfD",
        "outputId": "92bcd9d5-b2f5-4540-e7bf-7318582c0da1"
      },
      "execution_count": 46,
      "outputs": [
        {
          "output_type": "stream",
          "name": "stdout",
          "text": [
            "root\n",
            " |-- IDADE_MOMENTO_REACAO: long (nullable = true)\n",
            "\n",
            "+--------------------+\n",
            "|IDADE_MOMENTO_REACAO|\n",
            "+--------------------+\n",
            "|                  30|\n",
            "|                null|\n",
            "|                  49|\n",
            "|                null|\n",
            "|                  39|\n",
            "|                  42|\n",
            "|                  61|\n",
            "|                  81|\n",
            "|                  60|\n",
            "|                  61|\n",
            "|                  49|\n",
            "|                  48|\n",
            "|                   1|\n",
            "|                  71|\n",
            "|                  48|\n",
            "|                  36|\n",
            "|                  41|\n",
            "|                  53|\n",
            "|                  10|\n",
            "|                  51|\n",
            "+--------------------+\n",
            "only showing top 20 rows\n",
            "\n"
          ]
        }
      ]
    },
    {
      "cell_type": "markdown",
      "source": [
        "## 3.8 TRATAMENTO COLUNA GRUPO_IDADE"
      ],
      "metadata": {
        "id": "ChqalSpzIHbf"
      }
    },
    {
      "cell_type": "code",
      "source": [
        "from pyspark.sql.functions import when\n",
        "\n",
        "# Criar grupos etários com base em IDADE_MOMENTO_REACAO\n",
        "df_cleaned_loaded = df_cleaned_loaded.withColumn(\n",
        "    \"GRUPO_IDADE\",\n",
        "    when(col(\"GRUPO_IDADE\").isNull() & (col(\"IDADE_MOMENTO_REACAO\") < 18), \"Menor de 18\")\n",
        "    .when(col(\"GRUPO_IDADE\").isNull() & (col(\"IDADE_MOMENTO_REACAO\").between(18, 24)), \"18-24 anos\")\n",
        "    .when(col(\"GRUPO_IDADE\").isNull() & (col(\"IDADE_MOMENTO_REACAO\").between(25, 34)), \"25-34 anos\")\n",
        "    .when(col(\"GRUPO_IDADE\").isNull() & (col(\"IDADE_MOMENTO_REACAO\").between(35, 44)), \"35-44 anos\")\n",
        "    .when(col(\"GRUPO_IDADE\").isNull() & (col(\"IDADE_MOMENTO_REACAO\").between(45, 54)), \"45-54 anos\")\n",
        "    .when(col(\"GRUPO_IDADE\").isNull() & (col(\"IDADE_MOMENTO_REACAO\").between(55, 64)), \"55-64 anos\")\n",
        "    .when(col(\"GRUPO_IDADE\").isNull() & (col(\"IDADE_MOMENTO_REACAO\") >= 65), \"65 anos ou mais\")\n",
        "    .otherwise(col(\"GRUPO_IDADE\"))\n",
        ")\n",
        "\n",
        "# Verificar o resultado\n",
        "df_cleaned_loaded.select(\"IDADE_MOMENTO_REACAO\", \"GRUPO_IDADE\").show()\n"
      ],
      "metadata": {
        "colab": {
          "base_uri": "https://localhost:8080/"
        },
        "id": "VTwsTQkRISxa",
        "outputId": "da16b57d-de1d-4d5c-ffbe-3a05be9a42b5"
      },
      "execution_count": 47,
      "outputs": [
        {
          "output_type": "stream",
          "name": "stdout",
          "text": [
            "+--------------------+-----------+\n",
            "|IDADE_MOMENTO_REACAO|GRUPO_IDADE|\n",
            "+--------------------+-----------+\n",
            "|                  30|       NONE|\n",
            "|                null|       NONE|\n",
            "|                  49|       NONE|\n",
            "|                null|       NONE|\n",
            "|                  39|       NONE|\n",
            "|                  42|       NONE|\n",
            "|                  61|       NONE|\n",
            "|                  81|       NONE|\n",
            "|                  60|       NONE|\n",
            "|                  61|       NONE|\n",
            "|                  49|       NONE|\n",
            "|                  48|       NONE|\n",
            "|                   1|       NONE|\n",
            "|                  71|       NONE|\n",
            "|                  48|       NONE|\n",
            "|                  36|       NONE|\n",
            "|                  41|       NONE|\n",
            "|                  53|       NONE|\n",
            "|                  10|       NONE|\n",
            "|                  51|       NONE|\n",
            "+--------------------+-----------+\n",
            "only showing top 20 rows\n",
            "\n"
          ]
        }
      ]
    },
    {
      "cell_type": "code",
      "source": [
        "# Exibir valores únicos no atributo GRUPO_IDADE\n",
        "df_cleaned_loaded.select(\"GRUPO_IDADE\").distinct().show()\n"
      ],
      "metadata": {
        "colab": {
          "base_uri": "https://localhost:8080/"
        },
        "id": "UHqfd4kwIpvd",
        "outputId": "5334acdc-8c51-462a-c4c9-73ad72fe3b0b"
      },
      "execution_count": 48,
      "outputs": [
        {
          "output_type": "stream",
          "name": "stdout",
          "text": [
            "+---------------+\n",
            "|    GRUPO_IDADE|\n",
            "+---------------+\n",
            "|     18-24 anos|\n",
            "|     45-54 anos|\n",
            "|        NEONATO|\n",
            "|    Menor de 18|\n",
            "|           null|\n",
            "|     25-34 anos|\n",
            "|       INFANTIL|\n",
            "|           FETO|\n",
            "|     35-44 anos|\n",
            "|         ADULTO|\n",
            "|     55-64 anos|\n",
            "|65 anos ou mais|\n",
            "|          IDOSO|\n",
            "|        CRIANCA|\n",
            "|           NONE|\n",
            "|    ADOLESCENTE|\n",
            "+---------------+\n",
            "\n"
          ]
        }
      ]
    },
    {
      "cell_type": "code",
      "source": [
        "from pyspark.sql.functions import when, col\n",
        "\n",
        "# Ajustar os valores da coluna GRUPO_IDADE\n",
        "df_cleaned_loaded = df_cleaned_loaded.withColumn(\n",
        "    \"GRUPO_IDADE\",\n",
        "    when(col(\"GRUPO_IDADE\").isin(\"NEONATO\", \"INFANTIL\", \"FETO\", \"CRIANCA\", \"ADOLESCENTE\", \"Menor de 18\"), \"Menor de 18\")\n",
        "    .when(col(\"GRUPO_IDADE\") == \"18-24 anos\", \"18-24 anos\")\n",
        "    .when(col(\"GRUPO_IDADE\") == \"25-34 anos\", \"25-34 anos\")\n",
        "    .when(col(\"GRUPO_IDADE\") == \"35-44 anos\", \"35-44 anos\")\n",
        "    .when(col(\"GRUPO_IDADE\") == \"45-54 anos\", \"45-54 anos\")\n",
        "    .when(col(\"GRUPO_IDADE\") == \"55-64 anos\", \"55-64 anos\")\n",
        "    .when(col(\"GRUPO_IDADE\").isin(\"IDOSO\", \"65 anos ou mais\"), \"65 anos ou mais\")\n",
        "    .when(col(\"GRUPO_IDADE\").isin(\"null\", \"NONE\"), \"Não informado\")\n",
        "    .otherwise(\"Não informado\")  # Valores não reconhecidos\n",
        ")\n",
        "\n",
        "# Verificar o resultado\n",
        "df_cleaned_loaded.groupBy(\"GRUPO_IDADE\").count().orderBy(\"count\", ascending=False).show()\n"
      ],
      "metadata": {
        "colab": {
          "base_uri": "https://localhost:8080/"
        },
        "id": "Rkl4CNaMI4u6",
        "outputId": "6c1679f3-862d-4814-fd9d-965e09b7b839"
      },
      "execution_count": 49,
      "outputs": [
        {
          "output_type": "stream",
          "name": "stdout",
          "text": [
            "+---------------+------+\n",
            "|    GRUPO_IDADE| count|\n",
            "+---------------+------+\n",
            "|  Não informado|121944|\n",
            "|65 anos ou mais| 28955|\n",
            "|    Menor de 18|  8805|\n",
            "|     35-44 anos|  2696|\n",
            "|     25-34 anos|  2446|\n",
            "|     45-54 anos|  1977|\n",
            "|     55-64 anos|  1815|\n",
            "|     18-24 anos|  1606|\n",
            "+---------------+------+\n",
            "\n"
          ]
        }
      ]
    },
    {
      "cell_type": "markdown",
      "source": [
        "Tentativa de inputação de valores usando as colunas IDADE_MOMENTO_REACAO\n",
        "\n",
        "Criação do GRUPO_IDADE com base em IDADE_MOMENTO_REACAO"
      ],
      "metadata": {
        "id": "B_lO4qvhJDtq"
      }
    },
    {
      "cell_type": "markdown",
      "source": [],
      "metadata": {
        "id": "xAqIqnP9JNSf"
      }
    },
    {
      "cell_type": "code",
      "source": [
        "from pyspark.sql.functions import when\n",
        "\n",
        "# Imputar valores de GRUPO_IDADE com base em IDADE_MOMENTO_REACAO\n",
        "df_cleaned_loaded = df_cleaned_loaded.withColumn(\n",
        "    \"GRUPO_IDADE\",\n",
        "    when(col(\"GRUPO_IDADE\").isNull() & (col(\"IDADE_MOMENTO_REACAO\") < 18), \"Menor de 18\")\n",
        "    .when(col(\"GRUPO_IDADE\").isNull() & (col(\"IDADE_MOMENTO_REACAO\").between(18, 24)), \"18-24 anos\")\n",
        "    .when(col(\"GRUPO_IDADE\").isNull() & (col(\"IDADE_MOMENTO_REACAO\").between(25, 34)), \"25-34 anos\")\n",
        "    .when(col(\"GRUPO_IDADE\").isNull() & (col(\"IDADE_MOMENTO_REACAO\").between(35, 44)), \"35-44 anos\")\n",
        "    .when(col(\"GRUPO_IDADE\").isNull() & (col(\"IDADE_MOMENTO_REACAO\").between(45, 54)), \"45-54 anos\")\n",
        "    .when(col(\"GRUPO_IDADE\").isNull() & (col(\"IDADE_MOMENTO_REACAO\").between(55, 64)), \"55-64 anos\")\n",
        "    .when(col(\"GRUPO_IDADE\").isNull() & (col(\"IDADE_MOMENTO_REACAO\") >= 65), \"65 anos ou mais\")\n",
        "    .otherwise(col(\"GRUPO_IDADE\"))\n",
        ")\n",
        "\n",
        "# Verificar o resultado\n",
        "df_cleaned_loaded.groupBy(\"GRUPO_IDADE\").count().orderBy(\"count\", ascending=False).show()\n"
      ],
      "metadata": {
        "colab": {
          "base_uri": "https://localhost:8080/"
        },
        "id": "nD7TxZIKJDTV",
        "outputId": "74df137e-b9ea-4535-80d7-015fa7aab907"
      },
      "execution_count": 50,
      "outputs": [
        {
          "output_type": "stream",
          "name": "stdout",
          "text": [
            "+---------------+------+\n",
            "|    GRUPO_IDADE| count|\n",
            "+---------------+------+\n",
            "|  Não informado|121944|\n",
            "|65 anos ou mais| 28955|\n",
            "|    Menor de 18|  8805|\n",
            "|     35-44 anos|  2696|\n",
            "|     25-34 anos|  2446|\n",
            "|     45-54 anos|  1977|\n",
            "|     55-64 anos|  1815|\n",
            "|     18-24 anos|  1606|\n",
            "+---------------+------+\n",
            "\n"
          ]
        }
      ]
    },
    {
      "cell_type": "markdown",
      "source": [
        "Tentativa de inputação de valores usando as colunas DATA_NASCIMENTO e DATA_NOTIFICACAO\n",
        "\n",
        "Criação do GRUPO_IDADE com base em IDADE_MOMENTO_REACAO"
      ],
      "metadata": {
        "id": "pvUltt02JW3k"
      }
    },
    {
      "cell_type": "code",
      "source": [
        "from pyspark.sql.functions import datediff, floor\n",
        "\n",
        "# Calcular idade com base em DATA_NASCIMENTO e DATA_NOTIFICACAO\n",
        "df_cleaned_loaded = df_cleaned_loaded.withColumn(\n",
        "    \"IDADE_CALCULADA\",\n",
        "    when(\n",
        "        col(\"IDADE_MOMENTO_REACAO\").isNull() & col(\"DATA_NASCIMENTO\").isNotNull() & col(\"DATA_NOTIFICACAO\").isNotNull(),\n",
        "        floor(datediff(col(\"DATA_NOTIFICACAO\"), col(\"DATA_NASCIMENTO\")) / 365.25)\n",
        "    ).otherwise(col(\"IDADE_MOMENTO_REACAO\"))\n",
        ")\n",
        "\n",
        "# Imputar valores de GRUPO_IDADE com base em IDADE_CALCULADA\n",
        "df_cleaned_loaded = df_cleaned_loaded.withColumn(\n",
        "    \"GRUPO_IDADE\",\n",
        "    when(col(\"GRUPO_IDADE\").isNull() & (col(\"IDADE_CALCULADA\") < 18), \"Menor de 18\")\n",
        "    .when(col(\"GRUPO_IDADE\").isNull() & (col(\"IDADE_CALCULADA\").between(18, 24)), \"18-24 anos\")\n",
        "    .when(col(\"GRUPO_IDADE\").isNull() & (col(\"IDADE_CALCULADA\").between(25, 34)), \"25-34 anos\")\n",
        "    .when(col(\"GRUPO_IDADE\").isNull() & (col(\"IDADE_CALCULADA\").between(35, 44)), \"35-44 anos\")\n",
        "    .when(col(\"GRUPO_IDADE\").isNull() & (col(\"IDADE_CALCULADA\").between(45, 54)), \"45-54 anos\")\n",
        "    .when(col(\"GRUPO_IDADE\").isNull() & (col(\"IDADE_CALCULADA\").between(55, 64)), \"55-64 anos\")\n",
        "    .when(col(\"GRUPO_IDADE\").isNull() & (col(\"IDADE_CALCULADA\") >= 65), \"65 anos ou mais\")\n",
        "    .otherwise(col(\"GRUPO_IDADE\"))\n",
        ")\n",
        "\n",
        "# Verificar o resultado\n",
        "df_cleaned_loaded.groupBy(\"GRUPO_IDADE\").count().orderBy(\"count\", ascending=False).show()\n"
      ],
      "metadata": {
        "colab": {
          "base_uri": "https://localhost:8080/"
        },
        "id": "6a_UqHOzJcJv",
        "outputId": "2f55b4bf-0ae3-4301-91c9-daffb31d8034"
      },
      "execution_count": 51,
      "outputs": [
        {
          "output_type": "stream",
          "name": "stdout",
          "text": [
            "+---------------+------+\n",
            "|    GRUPO_IDADE| count|\n",
            "+---------------+------+\n",
            "|  Não informado|121944|\n",
            "|65 anos ou mais| 28955|\n",
            "|    Menor de 18|  8805|\n",
            "|     35-44 anos|  2696|\n",
            "|     25-34 anos|  2446|\n",
            "|     45-54 anos|  1977|\n",
            "|     55-64 anos|  1815|\n",
            "|     18-24 anos|  1606|\n",
            "+---------------+------+\n",
            "\n"
          ]
        }
      ]
    },
    {
      "cell_type": "code",
      "source": [
        "# Substituir valores ausentes por \"Não informado\"\n",
        "df_cleaned_loaded = df_cleaned_loaded.fillna({\"GRUPO_IDADE\": \"NÃO INFORMADO\"})\n",
        "\n",
        "# Verificar o resultado\n",
        "df_cleaned_loaded.groupBy(\"GRUPO_IDADE\").count().orderBy(\"count\", ascending=False).show()\n"
      ],
      "metadata": {
        "colab": {
          "base_uri": "https://localhost:8080/"
        },
        "id": "d65k4SW5Je_L",
        "outputId": "ee024afe-e690-4142-84f1-b61d83627acb"
      },
      "execution_count": 52,
      "outputs": [
        {
          "output_type": "stream",
          "name": "stdout",
          "text": [
            "+---------------+------+\n",
            "|    GRUPO_IDADE| count|\n",
            "+---------------+------+\n",
            "|  Não informado|121944|\n",
            "|65 anos ou mais| 28955|\n",
            "|    Menor de 18|  8805|\n",
            "|     35-44 anos|  2696|\n",
            "|     25-34 anos|  2446|\n",
            "|     45-54 anos|  1977|\n",
            "|     55-64 anos|  1815|\n",
            "|     18-24 anos|  1606|\n",
            "+---------------+------+\n",
            "\n"
          ]
        }
      ]
    },
    {
      "cell_type": "markdown",
      "source": [
        "## 3.9 TRATAMENTO DA COLUNA IDADE_GESTACIONAL_MOMENTO_REACAO"
      ],
      "metadata": {
        "id": "eJeckiEoJnko"
      }
    },
    {
      "cell_type": "code",
      "source": [
        "# Verificar valores únicos na coluna\n",
        "df_cleaned_loaded.select(\"IDADE_GESTACIONAL_MOMENTO_REACAO\").distinct().show()\n",
        "\n",
        "# Verificar relação com SEXO\n",
        "df_cleaned_loaded.groupBy(\"SEXO\", \"IDADE_GESTACIONAL_MOMENTO_REACAO\").count().show()\n"
      ],
      "metadata": {
        "colab": {
          "base_uri": "https://localhost:8080/"
        },
        "id": "pBZiKbxdJ-GU",
        "outputId": "9aada79d-fed3-4f1e-c548-40ca4711f005"
      },
      "execution_count": 53,
      "outputs": [
        {
          "output_type": "stream",
          "name": "stdout",
          "text": [
            "+--------------------------------+\n",
            "|IDADE_GESTACIONAL_MOMENTO_REACAO|\n",
            "+--------------------------------+\n",
            "|                      35 SEMANAS|\n",
            "|                       7 SEMANAS|\n",
            "|                      36 SEMANAS|\n",
            "|                            null|\n",
            "|                      24 SEMANAS|\n",
            "|                      33 SEMANAS|\n",
            "|                      30 SEMANAS|\n",
            "|                       8 SEMANAS|\n",
            "|                      38 SEMANAS|\n",
            "|                       9 SEMANAS|\n",
            "|                      27 SEMANAS|\n",
            "|                            NONE|\n",
            "|                      34 SEMANAS|\n",
            "|                      21 SEMANAS|\n",
            "|                      26 SEMANAS|\n",
            "|                      37 SEMANAS|\n",
            "|                           2 MES|\n",
            "|                      25 SEMANAS|\n",
            "|                      15 SEMANAS|\n",
            "|                      16 SEMANAS|\n",
            "+--------------------------------+\n",
            "only showing top 20 rows\n",
            "\n",
            "+------------+--------------------------------+-----+\n",
            "|        SEXO|IDADE_GESTACIONAL_MOMENTO_REACAO|count|\n",
            "+------------+--------------------------------+-----+\n",
            "|    FEMININO|                       7 SEMANAS|    1|\n",
            "|   MASCULINO|                            NONE|29233|\n",
            "|        null|                            null| 2392|\n",
            "|    FEMININO|                      33 SEMANAS|    4|\n",
            "|   MASCULINO|                            null|34106|\n",
            "|    FEMININO|                       9 SEMANAS|    3|\n",
            "|    FEMININO|                      30 SEMANAS|    1|\n",
            "|DESCONHECIDO|                            null|  230|\n",
            "|    FEMININO|                       8 SEMANAS|    5|\n",
            "|    FEMININO|                      27 SEMANAS|    1|\n",
            "|    FEMININO|                      38 SEMANAS|    3|\n",
            "|    FEMININO|                            NONE|49260|\n",
            "|DESCONHECIDO|                            NONE|  237|\n",
            "|    FEMININO|                      36 SEMANAS|    1|\n",
            "|        NONE|                            NONE| 3083|\n",
            "|    FEMININO|                      21 SEMANAS|    1|\n",
            "|    FEMININO|                      24 SEMANAS|    2|\n",
            "|    FEMININO|                            null|51647|\n",
            "|    FEMININO|                      35 SEMANAS|    3|\n",
            "|   MASCULINO|                      34 SEMANAS|    2|\n",
            "+------------+--------------------------------+-----+\n",
            "only showing top 20 rows\n",
            "\n"
          ]
        }
      ]
    },
    {
      "cell_type": "markdown",
      "source": [
        "Extrair números e padronizar para semanas"
      ],
      "metadata": {
        "id": "ymWtm0_cKIA9"
      }
    },
    {
      "cell_type": "code",
      "source": [
        "from pyspark.sql.functions import regexp_extract, when\n",
        "\n",
        "# Extrair números e converter meses para semanas\n",
        "df_cleaned_loaded = df_cleaned_loaded.withColumn(\n",
        "    \"IDADE_GESTACIONAL_MOMENTO_REACAO\",\n",
        "    when(\n",
        "        col(\"IDADE_GESTACIONAL_MOMENTO_REACAO\").rlike(r\"\\d+ SEMANAS\"),  # Para casos \"X SEMANAS\"\n",
        "        regexp_extract(col(\"IDADE_GESTACIONAL_MOMENTO_REACAO\"), r\"(\\d+)\", 1).cast(\"int\")\n",
        "    ).when(\n",
        "        col(\"IDADE_GESTACIONAL_MOMENTO_REACAO\").rlike(r\"\\d+ MES\"),  # Para casos \"X MES\"\n",
        "        (regexp_extract(col(\"IDADE_GESTACIONAL_MOMENTO_REACAO\"), r\"(\\d+)\", 1).cast(\"int\") * 4)\n",
        "    ).otherwise(None)  # Manter nulos para tratamento posterior\n",
        ")\n",
        "\n",
        "# Verificar o resultado da padronização\n",
        "df_cleaned_loaded.select(\"IDADE_GESTACIONAL_MOMENTO_REACAO\").show()\n"
      ],
      "metadata": {
        "colab": {
          "base_uri": "https://localhost:8080/"
        },
        "id": "QGrmoDl7KFiq",
        "outputId": "dbc0fbc3-fe30-4a84-ba6f-fad193443344"
      },
      "execution_count": 54,
      "outputs": [
        {
          "output_type": "stream",
          "name": "stdout",
          "text": [
            "+--------------------------------+\n",
            "|IDADE_GESTACIONAL_MOMENTO_REACAO|\n",
            "+--------------------------------+\n",
            "|                            null|\n",
            "|                            null|\n",
            "|                            null|\n",
            "|                            null|\n",
            "|                            null|\n",
            "|                            null|\n",
            "|                            null|\n",
            "|                            null|\n",
            "|                            null|\n",
            "|                            null|\n",
            "|                            null|\n",
            "|                            null|\n",
            "|                            null|\n",
            "|                            null|\n",
            "|                            null|\n",
            "|                            null|\n",
            "|                            null|\n",
            "|                            null|\n",
            "|                            null|\n",
            "|                            null|\n",
            "+--------------------------------+\n",
            "only showing top 20 rows\n",
            "\n"
          ]
        }
      ]
    },
    {
      "cell_type": "markdown",
      "source": [
        "Tratamento de ausentes - substituir por -1 PARA MELHOR PERFORMANCE NO ML"
      ],
      "metadata": {
        "id": "XK-Ad0SDKLUI"
      }
    },
    {
      "cell_type": "code",
      "source": [
        "df_cleaned_loaded = df_cleaned_loaded.fillna({\"IDADE_GESTACIONAL_MOMENTO_REACAO\": -1})\n",
        "\n",
        "# Verificar valores padronizados\n",
        "df_cleaned_loaded.select(\"IDADE_GESTACIONAL_MOMENTO_REACAO\").show()\n"
      ],
      "metadata": {
        "colab": {
          "base_uri": "https://localhost:8080/"
        },
        "id": "eq24HV5uKQ4X",
        "outputId": "5007cb2f-6a41-4b16-be57-4de8577568fb"
      },
      "execution_count": 55,
      "outputs": [
        {
          "output_type": "stream",
          "name": "stdout",
          "text": [
            "+--------------------------------+\n",
            "|IDADE_GESTACIONAL_MOMENTO_REACAO|\n",
            "+--------------------------------+\n",
            "|                              -1|\n",
            "|                              -1|\n",
            "|                              -1|\n",
            "|                              -1|\n",
            "|                              -1|\n",
            "|                              -1|\n",
            "|                              -1|\n",
            "|                              -1|\n",
            "|                              -1|\n",
            "|                              -1|\n",
            "|                              -1|\n",
            "|                              -1|\n",
            "|                              -1|\n",
            "|                              -1|\n",
            "|                              -1|\n",
            "|                              -1|\n",
            "|                              -1|\n",
            "|                              -1|\n",
            "|                              -1|\n",
            "|                              -1|\n",
            "+--------------------------------+\n",
            "only showing top 20 rows\n",
            "\n"
          ]
        }
      ]
    },
    {
      "cell_type": "markdown",
      "source": [
        "## 4.0 TRATAMENTO COLUNA SEXO"
      ],
      "metadata": {
        "id": "wr0xt5jzLMzy"
      }
    },
    {
      "cell_type": "code",
      "source": [
        "# Excluir linhas onde SEXO está ausente (nulo)\n",
        "df_cleaned_loaded = df_cleaned_loaded.filter(col(\"SEXO\").isNotNull())\n",
        "\n",
        "# Verificar o resultado\n",
        "df_cleaned_loaded.groupBy(\"SEXO\").count().show()\n"
      ],
      "metadata": {
        "colab": {
          "base_uri": "https://localhost:8080/"
        },
        "id": "ve1s1qU5Mn5H",
        "outputId": "aa88d90c-e97e-4d7a-805c-0b9f9674d914"
      },
      "execution_count": 67,
      "outputs": [
        {
          "output_type": "stream",
          "name": "stdout",
          "text": [
            "+-------------+------+\n",
            "|         SEXO| count|\n",
            "+-------------+------+\n",
            "|Não informado|  3552|\n",
            "|    MASCULINO| 63341|\n",
            "|     FEMININO|100959|\n",
            "+-------------+------+\n",
            "\n"
          ]
        }
      ]
    },
    {
      "cell_type": "code",
      "source": [
        "from pyspark.sql.functions import when, col\n",
        "\n",
        "# Substituir \"NONE\" e \"DESCONHECIDO\" por \"NÃO INFORMADO\"\n",
        "df_cleaned_loaded = df_cleaned_loaded.withColumn(\n",
        "    \"SEXO\",\n",
        "    when(col(\"SEXO\").isin(\"NONE\", \"DESCONHECIDO\"), \"NÃO INFORMADO\").otherwise(col(\"SEXO\"))\n",
        ")\n",
        "\n",
        "# Verificar os valores únicos e suas frequências\n",
        "df_cleaned_loaded.groupBy(\"SEXO\").count().orderBy(\"count\", ascending=False).show()\n"
      ],
      "metadata": {
        "colab": {
          "base_uri": "https://localhost:8080/"
        },
        "id": "G7CtWXYdLSoj",
        "outputId": "1c5feffa-b52d-4b45-b710-24391547f451"
      },
      "execution_count": 68,
      "outputs": [
        {
          "output_type": "stream",
          "name": "stdout",
          "text": [
            "+-------------+------+\n",
            "|         SEXO| count|\n",
            "+-------------+------+\n",
            "|     FEMININO|100959|\n",
            "|    MASCULINO| 63341|\n",
            "|Não informado|  3552|\n",
            "+-------------+------+\n",
            "\n"
          ]
        }
      ]
    },
    {
      "cell_type": "markdown",
      "source": [
        "TRANSFORMAÇÃO EM VARIÁVEL CATEGORICA"
      ],
      "metadata": {
        "id": "yfh8unXoMTl1"
      }
    },
    {
      "cell_type": "code",
      "source": [
        "from pyspark.ml.feature import StringIndexer\n",
        "\n",
        "# Aplicar StringIndexer para codificar a coluna SEXO\n",
        "indexer = StringIndexer(inputCol=\"SEXO\", outputCol=\"SEXO_Indexed\")\n",
        "df_cleaned_loaded = indexer.fit(df_cleaned_loaded).transform(df_cleaned_loaded)\n",
        "\n",
        "# Verificar o resultado\n",
        "df_cleaned_loaded.select(\"SEXO\", \"SEXO_Indexed\").show()\n"
      ],
      "metadata": {
        "id": "cyvtLcgWMWpf"
      },
      "execution_count": null,
      "outputs": []
    },
    {
      "cell_type": "code",
      "source": [
        "from pyspark.ml.feature import OneHotEncoder\n",
        "\n",
        "# Aplicar OneHotEncoder após a indexação\n",
        "encoder = OneHotEncoder(inputCol=\"SEXO_Indexed\", outputCol=\"SEXO_OneHot\")\n",
        "df_cleaned_loaded = encoder.fit(df_cleaned_loaded).transform(df_cleaned_loaded)\n",
        "\n",
        "# Verificar o resultado\n",
        "df_cleaned_loaded.select(\"SEXO\", \"SEXO_Indexed\", \"SEXO_OneHot\").show()\n"
      ],
      "metadata": {
        "id": "KC24ZZ28MZ4w"
      },
      "execution_count": null,
      "outputs": []
    },
    {
      "cell_type": "code",
      "source": [
        "# Exibir o schema para confirmar as transformações\n",
        "df_cleaned_loaded.printSchema()\n",
        "\n",
        "# Verificar os dados\n",
        "df_cleaned_loaded.select(\"SEXO\", \"SEXO_Indexed\", \"SEXO_OneHot\").show()\n"
      ],
      "metadata": {
        "id": "d2zAzCLnMkis"
      },
      "execution_count": null,
      "outputs": []
    }
  ],
  "metadata": {
    "colab": {
      "collapsed_sections": [
        "9g8LtG6xO5XH",
        "9uQn6Hi6UyXJ"
      ],
      "toc_visible": true,
      "provenance": [],
      "mount_file_id": "1oorlC1Vb7Ijfu1i-jMoWOU-r8t3TlPmc",
      "authorship_tag": "ABX9TyMLfSHvSgKBxGwR8Enls1Jl",
      "include_colab_link": true
    },
    "kernelspec": {
      "display_name": "Python 3",
      "name": "python3"
    },
    "language_info": {
      "name": "python"
    }
  },
  "nbformat": 4,
  "nbformat_minor": 0
}