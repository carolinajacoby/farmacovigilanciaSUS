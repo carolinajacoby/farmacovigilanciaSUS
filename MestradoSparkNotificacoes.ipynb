{
  "nbformat": 4,
  "nbformat_minor": 0,
  "metadata": {
    "colab": {
      "provenance": [],
      "toc_visible": true,
      "mount_file_id": "1oorlC1Vb7Ijfu1i-jMoWOU-r8t3TlPmc",
      "authorship_tag": "ABX9TyNdyBfrESC2//QFC/heFt40",
      "include_colab_link": true
    },
    "kernelspec": {
      "name": "python3",
      "display_name": "Python 3"
    },
    "language_info": {
      "name": "python"
    }
  },
  "cells": [
    {
      "cell_type": "markdown",
      "metadata": {
        "id": "view-in-github",
        "colab_type": "text"
      },
      "source": [
        "<a href=\"https://colab.research.google.com/github/carolinajacoby/farmacovigilanciaSUS/blob/main/MestradoSparkNotificacoes.ipynb\" target=\"_parent\"><img src=\"https://colab.research.google.com/assets/colab-badge.svg\" alt=\"Open In Colab\"/></a>"
      ]
    },
    {
      "cell_type": "code",
      "source": [],
      "metadata": {
        "id": "pTb9c0h1UnqR"
      },
      "execution_count": null,
      "outputs": []
    },
    {
      "cell_type": "markdown",
      "source": [
        "# 1- Configuração do ambiente de programação\n",
        "\n"
      ],
      "metadata": {
        "id": "9g8LtG6xO5XH"
      }
    },
    {
      "cell_type": "code",
      "source": [
        "import os"
      ],
      "metadata": {
        "id": "zd_HoqSCRSPk"
      },
      "execution_count": 1,
      "outputs": []
    },
    {
      "cell_type": "code",
      "source": [
        "# Instalar e testar versão do Java\n",
        "!apt-get install openjdk-8-jdk-headless -qq > /dev/null\n",
        "! java --version"
      ],
      "metadata": {
        "id": "FMoV7jOyPavz",
        "colab": {
          "base_uri": "https://localhost:8080/"
        },
        "outputId": "19546ab3-fa47-4340-e3b3-49a3cc2dc47e"
      },
      "execution_count": 2,
      "outputs": [
        {
          "output_type": "stream",
          "name": "stdout",
          "text": [
            "openjdk 11.0.25 2024-10-15\n",
            "OpenJDK Runtime Environment (build 11.0.25+9-post-Ubuntu-1ubuntu122.04)\n",
            "OpenJDK 64-Bit Server VM (build 11.0.25+9-post-Ubuntu-1ubuntu122.04, mixed mode, sharing)\n"
          ]
        }
      ]
    },
    {
      "cell_type": "code",
      "source": [
        "# Baixar o Apache Spark\n",
        "! wget https://dlcdn.apache.org/spark/spark-3.4.4/spark-3.4.4-bin-hadoop3.tgz\n",
        "# Descompactar\n",
        "! tar xf spark-3.4.4-bin-hadoop3.tgz\n",
        "# Configurar o Apache Spark\n",
        "! pip install -q findspark\n"
      ],
      "metadata": {
        "id": "pn35ForTQLI_",
        "colab": {
          "base_uri": "https://localhost:8080/"
        },
        "outputId": "8eb1a3d9-b62d-4540-d587-e3e1c70699cb"
      },
      "execution_count": 3,
      "outputs": [
        {
          "output_type": "stream",
          "name": "stdout",
          "text": [
            "--2025-01-07 19:38:06--  https://dlcdn.apache.org/spark/spark-3.4.4/spark-3.4.4-bin-hadoop3.tgz\n",
            "Resolving dlcdn.apache.org (dlcdn.apache.org)... 151.101.2.132, 2a04:4e42::644\n",
            "Connecting to dlcdn.apache.org (dlcdn.apache.org)|151.101.2.132|:443... connected.\n",
            "HTTP request sent, awaiting response... 200 OK\n",
            "Length: 388988563 (371M) [application/x-gzip]\n",
            "Saving to: ‘spark-3.4.4-bin-hadoop3.tgz’\n",
            "\n",
            "spark-3.4.4-bin-had 100%[===================>] 370.97M  33.0MB/s    in 7.3s    \n",
            "\n",
            "2025-01-07 19:38:13 (50.6 MB/s) - ‘spark-3.4.4-bin-hadoop3.tgz’ saved [388988563/388988563]\n",
            "\n"
          ]
        }
      ]
    },
    {
      "cell_type": "code",
      "source": [
        "#Apagar o arquivo compactado\n",
        "! rm -rf spark-3.4.4-bin-hadoop3.tgz"
      ],
      "metadata": {
        "id": "XHNcvBxoREgC"
      },
      "execution_count": 4,
      "outputs": []
    },
    {
      "cell_type": "code",
      "source": [
        "#Configuração as variáveis de ambiente\n",
        "os.environ['JAVA_HOME'] = '/usr/lib/jvm/java-8-openjdk-amd64'\n",
        "os.environ['SPARK_HOME'] = '/content/spark-3.4.4-bin-hadoop3'\n"
      ],
      "metadata": {
        "id": "xWDliN1xROVb"
      },
      "execution_count": 5,
      "outputs": []
    },
    {
      "cell_type": "code",
      "source": [
        "! pip install -q findspark # pacote para procurar o spark na máquina e informar ao os onde encontra-lo"
      ],
      "metadata": {
        "id": "OGYA3GpMSXkY"
      },
      "execution_count": 6,
      "outputs": []
    },
    {
      "cell_type": "code",
      "source": [
        "# Inicializar o Spark e criar uma sessão\n",
        "import findspark\n",
        "findspark.init()\n",
        "from pyspark.sql import SparkSession\n",
        "spark = SparkSession.builder.master('local[*]').appName ('MestradoSpark'). getOrCreate()"
      ],
      "metadata": {
        "id": "03Heam7TRm_U"
      },
      "execution_count": 7,
      "outputs": []
    },
    {
      "cell_type": "markdown",
      "source": [
        "# 2- Leitura do CSV vigimed_notificacoes"
      ],
      "metadata": {
        "id": "9uQn6Hi6UyXJ"
      }
    },
    {
      "cell_type": "code",
      "source": [
        "df_notificacoes = spark.read.csv(\n",
        "    '/content/drive/MyDrive/mestrado_carol/dissertacao/codigo/vigimed/vigimed_notificacoes.csv',\n",
        "    sep=';',\n",
        "    header=True,\n",
        "    inferSchema=True,\n",
        "    encoding='ISO-8859-1'\n",
        ")\n"
      ],
      "metadata": {
        "id": "oLpvAByNWHEM"
      },
      "execution_count": 8,
      "outputs": []
    },
    {
      "cell_type": "code",
      "source": [
        "df_notificacoes.describe().show(20)"
      ],
      "metadata": {
        "colab": {
          "base_uri": "https://localhost:8080/"
        },
        "id": "Eeyc-Tl8Yf3K",
        "outputId": "d84603e6-ee44-451e-eb36-f1881be3af3a"
      },
      "execution_count": 9,
      "outputs": [
        {
          "output_type": "stream",
          "name": "stdout",
          "text": [
            "+-------+------+--------------------+--------------------+-------------------------+---------------------+-----------------------+-------------------+--------------------+------------------------+--------------------+--------------------+-----------+--------------------------------+------------+--------+--------+-----------------+------------------+----------------------------+--------------------+--------------------+--------------------+--------------------+-------------------+------------------+--------------------------+------------------------+--------------------+-----------+\n",
            "|summary|    UF|TIPO_ENTRADA_VIGIMED|         RECEBIDO_DE|IDENTIFICACAO_NOTIFICACAO|DATA_INCLUSAO_SISTEMA|DATA_ULTIMA_ATUALIZACAO|   DATA_NOTIFICACAO|    TIPO_NOTIFICACAO|NOTIFICACAO_PARENT_CHILD|     DATA_NASCIMENTO|IDADE_MOMENTO_REACAO|GRUPO_IDADE|IDADE_GESTACIONAL_MOMENTO_REACAO|        SEXO|GESTANTE|LACTANTE|          PESO_KG|         ALTURA_CM|REACAO_EVENTO_ADVERSO_MEDDRA|               GRAVE|           GRAVIDADE|            DESFECHO|    DATA_INICIO_HORA|    DATA_FINAL_HORA|           DURACAO|RELACAO_MEDICAMENTO_EVENTO|NOME_MEDICAMENTO_WHODRUG|        ACAO_ADOTADA|NOTIFICADOR|\n",
            "+-------+------+--------------------+--------------------+-------------------------+---------------------+-----------------------+-------------------+--------------------+------------------------+--------------------+--------------------+-----------+--------------------------------+------------+--------+--------+-----------------+------------------+----------------------------+--------------------+--------------------+--------------------+--------------------+-------------------+------------------+--------------------------+------------------------+--------------------+-----------+\n",
            "|  count|164199|              243282|              216650|                   243352|               243352|                 243323|             170260|              243352|                     944|              200532|              177868|     143386|                           82076|      237614|   82494|   82491|           148639|             51083|                      243155|              210369|              165927|              218319|              241844|             240283|            239568|                    243351|                  242977|              160518|     233046|\n",
            "|   mean|  null|                null|                null|                     null| 2.0220895717775077E7|    2.022093890926989E7|2.017646321721036E7|                null|                    null|1.9613460454583734E7|   49.97014925373134|       null|                            null|        null|    null|    null|129.0529108637848|160.53446352015348|                        null|                null|                null|                null|1.8704973178643104E7|1.919410450298575E7|16.214285714285715|                      null|                    null|                null|       null|\n",
            "| stddev|  null|                null|                null|                     null|   13384.664704565981|      13414.61381451269|  895641.5487919927|                null|                    null|  1620845.1580707568|  19.519198124716375|       null|                            null|        null|    null|    null|2901.546757246961|24.003061906210135|                        null|                null|                null|                null|   5305470.749670247|  4426050.623765715| 27.61877447130309|                      null|                    null|                null|       null|\n",
            "|    min|     C|Empresas Farmacêu...|Autoridade Regula...|      BR-ANVISA-300000004|             20181201|               20181201|           00200306|Notificação de es...|                     Sim|            00021123|               0 ano|Adolescente|                          0 Dias|Desconhecido|    Não |    Não |                0|                 0|        AFP aumentada_x00...|                 Não|       Ameaça à vida|        Desconhecido|                    |                   |                  |      Concomitante_x000...|                   18FDG|     Aumento da dose|   Advogado|\n",
            "|    max|    TO|     VigiFlow eForms|Profissional de S...|      BR-ANVISA-300292819|             20240922|                   None|               None|               Outro|                     Sim|                None|                 mês|       None|                            None|        None|     Sim|     Sim|             None|               990|        Úvula aumentada|S...||||||||||||||||||...||||||||||||||||||...||||||||||||||||||...|      20290611 23:00|          20420809 |      9999 mês| | |                ||Suspeito|    ||||||||||Acido a...||||||||||||||||||...|         |||\n",
            "+-------+------+--------------------+--------------------+-------------------------+---------------------+-----------------------+-------------------+--------------------+------------------------+--------------------+--------------------+-----------+--------------------------------+------------+--------+--------+-----------------+------------------+----------------------------+--------------------+--------------------+--------------------+--------------------+-------------------+------------------+--------------------------+------------------------+--------------------+-----------+\n",
            "\n"
          ]
        }
      ]
    },
    {
      "cell_type": "code",
      "source": [
        "from pyspark.sql.functions import col\n",
        "\n",
        "# Inicializar uma lista para armazenar os resultados\n",
        "resultados = []\n",
        "\n",
        "# Obter o esquema das colunas\n",
        "for field in df_notificacoes.schema.fields:\n",
        "    # Nome e tipo da coluna\n",
        "    nome_coluna = field.name\n",
        "    tipo_coluna = field.dataType.simpleString()\n",
        "\n",
        "    # Contar o número de registros não nulos (count)\n",
        "    count = df_notificacoes.filter(col(nome_coluna).isNotNull()).count()\n",
        "\n",
        "    # Obter estatísticas descritivas, como min, max, etc.\n",
        "    stats = df_notificacoes.describe(nome_coluna).collect()\n",
        "    stats_dict = {row['summary']: row[nome_coluna] for row in stats}\n",
        "\n",
        "    # Adicionar ao resultado\n",
        "    resultados.append({\n",
        "        \"Coluna\": nome_coluna,\n",
        "        \"Tipo\": tipo_coluna,\n",
        "        \"Quantidade de Linhas\": count,\n",
        "        \"Mínimo\": stats_dict.get(\"min\"),\n",
        "        \"Máximo\": stats_dict.get(\"max\"),\n",
        "        \"Média\": stats_dict.get(\"mean\"),\n",
        "        \"Desvio Padrão\": stats_dict.get(\"stddev\")\n",
        "    })\n",
        "\n",
        "# Converter resultados em um DataFrame para visualização\n",
        "resultado_df = spark.createDataFrame(resultados)\n",
        "\n",
        "# Exibir a tabela\n",
        "resultado_df.show(truncate=False)\n"
      ],
      "metadata": {
        "colab": {
          "base_uri": "https://localhost:8080/"
        },
        "id": "obrjHXYqxfYm",
        "outputId": "20edae15-0817-42af-b5b0-4fb5ad4e8915"
      },
      "execution_count": 10,
      "outputs": [
        {
          "output_type": "stream",
          "name": "stdout",
          "text": [
            "+--------------------------------+------------------+--------------------------------------------------------------------------------+--------------------+----------------------------------------------+--------------------+------+\n",
            "|Coluna                          |Desvio Padrão     |Máximo                                                                          |Média               |Mínimo                                        |Quantidade de Linhas|Tipo  |\n",
            "+--------------------------------+------------------+--------------------------------------------------------------------------------+--------------------+----------------------------------------------+--------------------+------+\n",
            "|UF                              |null              |TO                                                                              |null                | C                                            |164199              |string|\n",
            "|TIPO_ENTRADA_VIGIMED            |null              |VigiFlow eForms                                                                 |null                |Empresas Farmacêuticas                        |243282              |string|\n",
            "|RECEBIDO_DE                     |null              |Profissional de Saúde                                                           |null                |Autoridade Reguladora                         |216650              |string|\n",
            "|IDENTIFICACAO_NOTIFICACAO       |null              |BR-ANVISA-300292819                                                             |null                |BR-ANVISA-300000004                           |243352              |string|\n",
            "|DATA_INCLUSAO_SISTEMA           |13384.664704565981|20240922                                                                        |2.0220895717775077E7|20181201                                      |243352              |int   |\n",
            "|DATA_ULTIMA_ATUALIZACAO         |13414.61381451269 |None                                                                            |2.022093890926989E7 |20181201                                      |243323              |string|\n",
            "|DATA_NOTIFICACAO                |895641.5487919927 |None                                                                            |2.017646321721036E7 |00200306                                      |170260              |string|\n",
            "|TIPO_NOTIFICACAO                |null              |Outro                                                                           |null                |Notificação de estudo                         |243352              |string|\n",
            "|NOTIFICACAO_PARENT_CHILD        |null              |Sim                                                                             |null                |Sim                                           |944                 |string|\n",
            "|DATA_NASCIMENTO                 |1620845.1580707568|None                                                                            |1.9613460454583734E7|00021123                                      |200532              |string|\n",
            "|IDADE_MOMENTO_REACAO            |19.519198124716375|mês                                                                             |49.97014925373134   |0 ano                                         |177868              |string|\n",
            "|GRUPO_IDADE                     |null              |None                                                                            |null                |Adolescente                                   |143386              |string|\n",
            "|IDADE_GESTACIONAL_MOMENTO_REACAO|null              |None                                                                            |null                |0 Dias                                        |82076               |string|\n",
            "|SEXO                            |null              |None                                                                            |null                |Desconhecido                                  |237614              |string|\n",
            "|GESTANTE                        |null              |Sim                                                                             |null                |Não                                           |82494               |string|\n",
            "|LACTANTE                        |null              |Sim                                                                             |null                |Não                                           |82491               |string|\n",
            "|PESO_KG                         |2901.546757246961 |None                                                                            |129.0529108637848   |0                                             |148639              |string|\n",
            "|ALTURA_CM                       |24.003061906210135|990                                                                             |160.53446352015348  |0                                             |51083               |int   |\n",
            "|REACAO_EVENTO_ADVERSO_MEDDRA    |null              |Úvula aumentada|Sensação de sufocamento|Dor de garganta|Dificuldade respiratória|null                |AFP aumentada_x000D_|Recidiva de neoplasia SOE|243155              |string|\n",
            "|GRAVE                           |null              |||||||||||||||||||||||                                                          |null                |Não                                           |210369              |string|\n",
            "+--------------------------------+------------------+--------------------------------------------------------------------------------+--------------------+----------------------------------------------+--------------------+------+\n",
            "only showing top 20 rows\n",
            "\n"
          ]
        }
      ]
    },
    {
      "cell_type": "markdown",
      "source": [
        "# 3 - Pré processamento de dados"
      ],
      "metadata": {
        "id": "4EViIUGUc7FQ"
      }
    },
    {
      "cell_type": "markdown",
      "source": [
        "REMOÇÃO DE RUIDOS\n",
        "\n",
        "\n",
        "*   ACENTOS\n",
        "*   BR-ANVISA\n",
        "* _x000D_\n"
      ],
      "metadata": {
        "id": "-23MbTInkcNq"
      }
    },
    {
      "cell_type": "code",
      "source": [
        "from pyspark.sql.functions import regexp_replace, col, upper, to_date\n",
        "\n",
        "# Função para remover acentos\n",
        "def remover_acentos(df, colunas):\n",
        "    for coluna in colunas:\n",
        "        df = df.withColumn(coluna, regexp_replace(col(coluna), \"[áàãâä]\", \"A\"))\n",
        "        df = df.withColumn(coluna, regexp_replace(col(coluna), \"[éèêë]\", \"E\"))\n",
        "        df = df.withColumn(coluna, regexp_replace(col(coluna), \"[íìîï]\", \"I\"))\n",
        "        df = df.withColumn(coluna, regexp_replace(col(coluna), \"[óòõôö]\", \"O\"))\n",
        "        df = df.withColumn(coluna, regexp_replace(col(coluna), \"[úùûü]\", \"U\"))\n",
        "        df = df.withColumn(coluna, regexp_replace(col(coluna), \"[ç]\", \"C\"))\n",
        "        df = df.withColumn(coluna, regexp_replace(col(coluna), \"[ñ]\", \"N\"))\n",
        "    return df\n",
        "\n"
      ],
      "metadata": {
        "collapsed": true,
        "id": "ASIhe8iJgEjO"
      },
      "execution_count": 11,
      "outputs": []
    },
    {
      "cell_type": "code",
      "source": [
        "# Identificar as colunas de texto\n",
        "colunas_texto = [col for col, dtype in df_notificacoes.dtypes if dtype == \"string\"]\n",
        "\n",
        "# Remover \"BR-ANVISA-\", \"_x000D_\", e acentos\n",
        "for coluna in colunas_texto:\n",
        "    df_notificacoes = df_notificacoes.withColumn(coluna, regexp_replace(col(coluna), \"BR-ANVISA-\", \"\"))\n",
        "    df_notificacoes = df_notificacoes.withColumn(coluna, regexp_replace(col(coluna), \"_x000D_\", \"\"))\n",
        "df_notificacoes = remover_acentos(df_notificacoes, colunas_texto)\n",
        "\n",
        "\n"
      ],
      "metadata": {
        "id": "tCNMDRg5kPpS"
      },
      "execution_count": 12,
      "outputs": []
    },
    {
      "cell_type": "markdown",
      "source": [
        "TRANSFORMAÇÃO DE TODOS REGISTROS PARA MAIÚSCULA PARA PADRONIZAR"
      ],
      "metadata": {
        "id": "-DNenAwLkvoC"
      }
    },
    {
      "cell_type": "code",
      "source": [
        "# Transformar todos os registros para maiúsculas\n",
        "for coluna in colunas_texto:\n",
        "    df_notificacoes = df_notificacoes.withColumn(coluna, upper(col(coluna)))\n"
      ],
      "metadata": {
        "id": "9Qst0I9_kz5S"
      },
      "execution_count": 13,
      "outputs": []
    },
    {
      "cell_type": "markdown",
      "source": [
        "REMOÇÃO DE ESPAÇOS EM BRANCO"
      ],
      "metadata": {
        "id": "R8nuRSLSk1Qb"
      }
    },
    {
      "cell_type": "code",
      "source": [
        "from pyspark.sql.functions import trim\n",
        "\n",
        "# Remover espaços em branco de colunas de texto\n",
        "colunas_texto = [\n",
        "    \"UF\", \"TIPO_ENTRADA_VIGIMED\", \"RECEBIDO_DE\", \"TIPO_NOTIFICACAO\",\n",
        "    \"NOTIFICACAO_PARENT_CHILD\", \"IDADE_MOMENTO_REACAO\", \"GRUPO_IDADE\",\n",
        "    \"IDADE_GESTACIONAL_MOMENTO_REACAO\", \"REACAO_EVENTO_ADVERSO_MEDDRA\",\n",
        "    \"GRAVIDADE\", \"DESFECHO\", \"DURACAO\", \"RELACAO_MEDICAMENTO_EVENTO\",\n",
        "    \"NOME_MEDICAMENTO_WHODRUG\", \"ACAO_ADOTADA\", \"NOTIFICADOR\"\n",
        "]\n",
        "\n",
        "# Aplicar trim para remover espaços em branco no início e no fim\n",
        "for coluna in colunas_texto:\n",
        "    df_notificacoes = df_notificacoes.withColumn(coluna, trim(col(coluna)))\n"
      ],
      "metadata": {
        "id": "F8nNIoLugl5W"
      },
      "execution_count": 14,
      "outputs": []
    },
    {
      "cell_type": "markdown",
      "source": [
        "TRATAMENTO DE VALORES AUSENTES"
      ],
      "metadata": {
        "id": "1tqHds14lhME"
      }
    },
    {
      "cell_type": "code",
      "source": [
        "from pyspark.sql.functions import col, count, when\n",
        "\n",
        "# Número total de linhas no DataFrame\n",
        "total_rows = df_notificacoes.count()\n",
        "\n",
        "# Contar valores nulos e calcular o percentual de nulos em cada coluna\n",
        "missing_percentage = df_notificacoes.select(\n",
        "    [\n",
        "        ((count(when(col(c).isNull(), c)) / total_rows) * 100).alias(c)\n",
        "        for c in df_notificacoes.columns\n",
        "    ]\n",
        ")\n",
        "\n",
        "# Exibir os resultados\n",
        "missing_percentage.show()\n"
      ],
      "metadata": {
        "colab": {
          "base_uri": "https://localhost:8080/"
        },
        "id": "mXZa-z2tmNB8",
        "outputId": "8ae38749-78ee-4f1f-faf5-89f12af4d739"
      },
      "execution_count": 15,
      "outputs": [
        {
          "output_type": "stream",
          "name": "stdout",
          "text": [
            "+-----------------+--------------------+------------------+-------------------------+---------------------+-----------------------+------------------+----------------+------------------------+-----------------+--------------------+-----------------+--------------------------------+---------------+-----------------+-----------------+-----------------+----------------+----------------------------+------------------+------------------+------------------+------------------+-----------------+------------------+--------------------------+------------------------+-----------------+-----------------+\n",
            "|               UF|TIPO_ENTRADA_VIGIMED|       RECEBIDO_DE|IDENTIFICACAO_NOTIFICACAO|DATA_INCLUSAO_SISTEMA|DATA_ULTIMA_ATUALIZACAO|  DATA_NOTIFICACAO|TIPO_NOTIFICACAO|NOTIFICACAO_PARENT_CHILD|  DATA_NASCIMENTO|IDADE_MOMENTO_REACAO|      GRUPO_IDADE|IDADE_GESTACIONAL_MOMENTO_REACAO|           SEXO|         GESTANTE|         LACTANTE|          PESO_KG|       ALTURA_CM|REACAO_EVENTO_ADVERSO_MEDDRA|             GRAVE|         GRAVIDADE|          DESFECHO|  DATA_INICIO_HORA|  DATA_FINAL_HORA|           DURACAO|RELACAO_MEDICAMENTO_EVENTO|NOME_MEDICAMENTO_WHODRUG|     ACAO_ADOTADA|      NOTIFICADOR|\n",
            "+-----------------+--------------------+------------------+-------------------------+---------------------+-----------------------+------------------+----------------+------------------------+-----------------+--------------------+-----------------+--------------------------------+---------------+-----------------+-----------------+-----------------+----------------+----------------------------+------------------+------------------+------------------+------------------+-----------------+------------------+--------------------------+------------------------+-----------------+-----------------+\n",
            "|32.52613498142608| 0.02876491666392715|10.972582925145469|                      0.0|                  0.0|   0.011916894046484106|30.035504125710904|             0.0|        99.6120845524179|17.59591045070515|   26.90916861172294|41.07876656037345|                66.2727242841645|2.3579013116802|66.10095663894276|66.10218942108551|38.92016502843617|79.0085966008087|         0.08095269403990926|13.553617804661561|31.816052467207996|10.286745126401263|0.6196784904171735|1.261136132022749|1.5549492093757191|      4.109273809132450...|      0.1540977678424669|34.03875867056774|4.235017587691903|\n",
            "+-----------------+--------------------+------------------+-------------------------+---------------------+-----------------------+------------------+----------------+------------------------+-----------------+--------------------+-----------------+--------------------------------+---------------+-----------------+-----------------+-----------------+----------------+----------------------------+------------------+------------------+------------------+------------------+-----------------+------------------+--------------------------+------------------------+-----------------+-----------------+\n",
            "\n"
          ]
        }
      ]
    },
    {
      "cell_type": "markdown",
      "source": [
        "TRATAMENTO PARA COLUNAS COM + 75% DE VALORES AUSENTES:\n",
        "SERÁ FEITO A EXCLUSÃO."
      ],
      "metadata": {
        "id": "KTyDjKw_mfjG"
      }
    },
    {
      "cell_type": "code",
      "source": [
        "from pyspark.sql.functions import col, count, when\n",
        "\n",
        "# Definir o limite de porcentagem (por exemplo, 50%)\n",
        "threshold = 75.0\n",
        "\n",
        "# Número total de linhas no DataFrame\n",
        "total_rows = df_notificacoes.count()\n",
        "\n",
        "# Calcular o percentual de valores nulos em cada coluna\n",
        "columns_to_remove = []\n",
        "for column in df_notificacoes.columns:\n",
        "    null_count = df_notificacoes.filter(col(column).isNull()).count()\n",
        "    null_percentage = (null_count / total_rows) * 100\n",
        "    if null_percentage > threshold:\n",
        "        columns_to_remove.append(column)\n",
        "\n",
        "# Excluir as colunas identificadas\n",
        "df_notificacoes = df_notificacoes.drop(*columns_to_remove)\n",
        "\n",
        "# Exibir as colunas removidas\n",
        "print(f\"Colunas removidas: {columns_to_remove}\")\n",
        "\n"
      ],
      "metadata": {
        "colab": {
          "base_uri": "https://localhost:8080/"
        },
        "id": "UjyHSNInmrE_",
        "outputId": "9930188a-2f7b-452c-889b-d1e0c72dd711"
      },
      "execution_count": 16,
      "outputs": [
        {
          "output_type": "stream",
          "name": "stdout",
          "text": [
            "Colunas removidas: ['NOTIFICACAO_PARENT_CHILD', 'ALTURA_CM']\n"
          ]
        }
      ]
    }
  ]
}